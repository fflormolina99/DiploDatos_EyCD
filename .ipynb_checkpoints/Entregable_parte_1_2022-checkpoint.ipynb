{
 "cells": [
  {
   "cell_type": "markdown",
   "id": "e0ff301b-5595-4a0b-a2b8-3d5609a0485d",
   "metadata": {
    "id": "e0ff301b-5595-4a0b-a2b8-3d5609a0485d"
   },
   "source": [
    "**Diplomatura en Ciencia de Datos, Aprendizaje Automático y sus Aplicaciones**\n",
    "\n",
    "**Exploración y Curación de Datos**\n",
    "\n",
    "*Edición 2022*\n",
    "\n",
    "----\n",
    "\n",
    "# Trabajo práctico entregable - parte 1\n",
    "\n",
    "En esta notebook, vamos a cargar el conjunto de datos de [la compentencia Kaggle](https://www.kaggle.com/dansbecker/melbourne-housing-snapshot) sobre estimación de precios de ventas de propiedades en Melbourne, Australia.\n",
    "\n",
    "Utilizaremos el conjunto de datos reducido producido por [DanB](https://www.kaggle.com/dansbecker). Hemos subido una copia a un servidor de la Universidad Nacional de Córdoba para facilitar su acceso remoto."
   ]
  },
  {
   "cell_type": "code",
   "execution_count": 1,
   "id": "f5ac98f7-51f3-4f91-ac49-60ef5fe249be",
   "metadata": {
    "colab": {
     "base_uri": "https://localhost:8080/",
     "height": 269
    },
    "id": "f5ac98f7-51f3-4f91-ac49-60ef5fe249be",
    "outputId": "ebabe342-9f8f-42c8-ef09-0e42f3546259"
   },
   "outputs": [
    {
     "data": {
      "text/html": [
       "<div>\n",
       "<style scoped>\n",
       "    .dataframe tbody tr th:only-of-type {\n",
       "        vertical-align: middle;\n",
       "    }\n",
       "\n",
       "    .dataframe tbody tr th {\n",
       "        vertical-align: top;\n",
       "    }\n",
       "\n",
       "    .dataframe thead th {\n",
       "        text-align: right;\n",
       "    }\n",
       "</style>\n",
       "<table border=\"1\" class=\"dataframe\">\n",
       "  <thead>\n",
       "    <tr style=\"text-align: right;\">\n",
       "      <th></th>\n",
       "      <th>Suburb</th>\n",
       "      <th>Address</th>\n",
       "      <th>Rooms</th>\n",
       "      <th>Type</th>\n",
       "      <th>Price</th>\n",
       "      <th>Method</th>\n",
       "      <th>SellerG</th>\n",
       "      <th>Date</th>\n",
       "      <th>Distance</th>\n",
       "      <th>Postcode</th>\n",
       "      <th>...</th>\n",
       "      <th>Bathroom</th>\n",
       "      <th>Car</th>\n",
       "      <th>Landsize</th>\n",
       "      <th>BuildingArea</th>\n",
       "      <th>YearBuilt</th>\n",
       "      <th>CouncilArea</th>\n",
       "      <th>Lattitude</th>\n",
       "      <th>Longtitude</th>\n",
       "      <th>Regionname</th>\n",
       "      <th>Propertycount</th>\n",
       "    </tr>\n",
       "  </thead>\n",
       "  <tbody>\n",
       "    <tr>\n",
       "      <th>0</th>\n",
       "      <td>Abbotsford</td>\n",
       "      <td>85 Turner St</td>\n",
       "      <td>2</td>\n",
       "      <td>h</td>\n",
       "      <td>1480000.0</td>\n",
       "      <td>S</td>\n",
       "      <td>Biggin</td>\n",
       "      <td>3/12/2016</td>\n",
       "      <td>2.5</td>\n",
       "      <td>3067.0</td>\n",
       "      <td>...</td>\n",
       "      <td>1.0</td>\n",
       "      <td>1.0</td>\n",
       "      <td>202.0</td>\n",
       "      <td>NaN</td>\n",
       "      <td>NaN</td>\n",
       "      <td>Yarra</td>\n",
       "      <td>-37.7996</td>\n",
       "      <td>144.9984</td>\n",
       "      <td>Northern Metropolitan</td>\n",
       "      <td>4019.0</td>\n",
       "    </tr>\n",
       "    <tr>\n",
       "      <th>1</th>\n",
       "      <td>Abbotsford</td>\n",
       "      <td>25 Bloomburg St</td>\n",
       "      <td>2</td>\n",
       "      <td>h</td>\n",
       "      <td>1035000.0</td>\n",
       "      <td>S</td>\n",
       "      <td>Biggin</td>\n",
       "      <td>4/02/2016</td>\n",
       "      <td>2.5</td>\n",
       "      <td>3067.0</td>\n",
       "      <td>...</td>\n",
       "      <td>1.0</td>\n",
       "      <td>0.0</td>\n",
       "      <td>156.0</td>\n",
       "      <td>79.0</td>\n",
       "      <td>1900.0</td>\n",
       "      <td>Yarra</td>\n",
       "      <td>-37.8079</td>\n",
       "      <td>144.9934</td>\n",
       "      <td>Northern Metropolitan</td>\n",
       "      <td>4019.0</td>\n",
       "    </tr>\n",
       "    <tr>\n",
       "      <th>2</th>\n",
       "      <td>Abbotsford</td>\n",
       "      <td>5 Charles St</td>\n",
       "      <td>3</td>\n",
       "      <td>h</td>\n",
       "      <td>1465000.0</td>\n",
       "      <td>SP</td>\n",
       "      <td>Biggin</td>\n",
       "      <td>4/03/2017</td>\n",
       "      <td>2.5</td>\n",
       "      <td>3067.0</td>\n",
       "      <td>...</td>\n",
       "      <td>2.0</td>\n",
       "      <td>0.0</td>\n",
       "      <td>134.0</td>\n",
       "      <td>150.0</td>\n",
       "      <td>1900.0</td>\n",
       "      <td>Yarra</td>\n",
       "      <td>-37.8093</td>\n",
       "      <td>144.9944</td>\n",
       "      <td>Northern Metropolitan</td>\n",
       "      <td>4019.0</td>\n",
       "    </tr>\n",
       "  </tbody>\n",
       "</table>\n",
       "<p>3 rows × 21 columns</p>\n",
       "</div>"
      ],
      "text/plain": [
       "       Suburb          Address  Rooms Type      Price Method SellerG  \\\n",
       "0  Abbotsford     85 Turner St      2    h  1480000.0      S  Biggin   \n",
       "1  Abbotsford  25 Bloomburg St      2    h  1035000.0      S  Biggin   \n",
       "2  Abbotsford     5 Charles St      3    h  1465000.0     SP  Biggin   \n",
       "\n",
       "        Date  Distance  Postcode  ...  Bathroom  Car  Landsize  BuildingArea  \\\n",
       "0  3/12/2016       2.5    3067.0  ...       1.0  1.0     202.0           NaN   \n",
       "1  4/02/2016       2.5    3067.0  ...       1.0  0.0     156.0          79.0   \n",
       "2  4/03/2017       2.5    3067.0  ...       2.0  0.0     134.0         150.0   \n",
       "\n",
       "   YearBuilt  CouncilArea Lattitude  Longtitude             Regionname  \\\n",
       "0        NaN        Yarra  -37.7996    144.9984  Northern Metropolitan   \n",
       "1     1900.0        Yarra  -37.8079    144.9934  Northern Metropolitan   \n",
       "2     1900.0        Yarra  -37.8093    144.9944  Northern Metropolitan   \n",
       "\n",
       "  Propertycount  \n",
       "0        4019.0  \n",
       "1        4019.0  \n",
       "2        4019.0  \n",
       "\n",
       "[3 rows x 21 columns]"
      ]
     },
     "execution_count": 1,
     "metadata": {},
     "output_type": "execute_result"
    }
   ],
   "source": [
    "import matplotlib.pyplot as plt\n",
    "import numpy\n",
    "import pandas\n",
    "import seaborn\n",
    "\n",
    "seaborn.set_context(\"talk\")\n",
    "\n",
    "# from decouple import config\n",
    "from sqlalchemy import create_engine, text\n",
    "from google.colab import files\n",
    "import io\n",
    "\n",
    "import plotly\n",
    "\n",
    "plotly.__version__\n",
    "# Make sure it's 4.14.3\n",
    "\n",
    "melb_df = pandas.read_csv(\n",
    "    \"https://cs.famaf.unc.edu.ar/~mteruel/datasets/diplodatos/melb_data.csv\"\n",
    ")\n",
    "melb_df[:3]\n"
   ]
  },
  {
   "cell_type": "markdown",
   "id": "6cffe5bf-2498-498c-aa06-3e61422d91e6",
   "metadata": {
    "id": "6cffe5bf-2498-498c-aa06-3e61422d91e6"
   },
   "source": [
    "## Ejercicio 1 SQL: \n",
    "\n",
    "1. Crear una base de datos en SQLite utilizando la libreria [SQLalchemy](https://stackoverflow.com/questions/2268050/execute-sql-from-file-in-sqlalchemy).\n",
    "https://docs.sqlalchemy.org/en/14/core/engines.html#sqlite\n",
    "\n",
    "2. Ingestar los datos provistos en 'https://cs.famaf.unc.edu.ar/~mteruel/datasets/diplodatos/melb_data.csv' en una tabla y el dataset generado en clase con datos de airbnb y sus precios por codigo postal en otra.\n",
    "\n",
    "3. Implementar consultas en SQL que respondan con la siguiente información:\n",
    "\n",
    "    - cantidad de registros totales por ciudad.\n",
    "    - cantidad de registros totales por barrio y ciudad.\n",
    "\n",
    "4. Combinar los datasets de ambas tablas ingestadas utilizando el comando JOIN de SQL  para obtener un resultado similar a lo realizado con Pandas en clase.  \n",
    "\n"
   ]
  },
  {
   "cell_type": "markdown",
   "id": "uoE8yYjITnJ0",
   "metadata": {
    "id": "uoE8yYjITnJ0"
   },
   "source": [
    "# Solución\n",
    "\n",
    "### Creación de la base de datos"
   ]
  },
  {
   "cell_type": "code",
   "execution_count": 2,
   "id": "RuweRpapTtty",
   "metadata": {
    "id": "RuweRpapTtty"
   },
   "outputs": [],
   "source": [
    "engine = create_engine(\"sqlite:///melb_housing_data.sqlite3\", echo=True)"
   ]
  },
  {
   "cell_type": "markdown",
   "id": "XCAQfwarTxyV",
   "metadata": {
    "id": "XCAQfwarTxyV"
   },
   "source": [
    "### Se ingresan los datos de melbourn a la base de datos"
   ]
  },
  {
   "cell_type": "code",
   "execution_count": 3,
   "id": "0A8G_V0kT-Ey",
   "metadata": {
    "colab": {
     "base_uri": "https://localhost:8080/",
     "height": 1000,
     "resources": {
      "http://localhost:8080/nbextensions/google.colab/files.js": {
       "data": "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",
       "headers": [
        [
         "content-type",
         "application/javascript"
        ]
       ],
       "ok": true,
       "status": 200,
       "status_text": "OK"
      }
     }
    },
    "id": "0A8G_V0kT-Ey",
    "outputId": "740631e7-e4f3-4c88-e719-d785fc81b24f"
   },
   "outputs": [
    {
     "name": "stdout",
     "output_type": "stream",
     "text": [
      "2022-05-18 10:07:15,118 INFO sqlalchemy.engine.Engine PRAGMA main.table_info(\"mlb_data\")\n",
      "2022-05-18 10:07:15,120 INFO sqlalchemy.engine.Engine [raw sql] ()\n",
      "2022-05-18 10:07:15,122 INFO sqlalchemy.engine.Engine PRAGMA temp.table_info(\"mlb_data\")\n",
      "2022-05-18 10:07:15,122 INFO sqlalchemy.engine.Engine [raw sql] ()\n",
      "2022-05-18 10:07:15,125 INFO sqlalchemy.engine.Engine BEGIN (implicit)\n",
      "2022-05-18 10:07:15,127 INFO sqlalchemy.engine.Engine \n",
      "CREATE TABLE mlb_data (\n",
      "\t\"index\" BIGINT, \n",
      "\t\"Suburb\" TEXT, \n",
      "\t\"Address\" TEXT, \n",
      "\t\"Rooms\" BIGINT, \n",
      "\t\"Type\" TEXT, \n",
      "\t\"Price\" FLOAT, \n",
      "\t\"Method\" TEXT, \n",
      "\t\"SellerG\" TEXT, \n",
      "\t\"Date\" TEXT, \n",
      "\t\"Distance\" FLOAT, \n",
      "\t\"Postcode\" FLOAT, \n",
      "\t\"Bedroom2\" FLOAT, \n",
      "\t\"Bathroom\" FLOAT, \n",
      "\t\"Car\" FLOAT, \n",
      "\t\"Landsize\" FLOAT, \n",
      "\t\"BuildingArea\" FLOAT, \n",
      "\t\"YearBuilt\" FLOAT, \n",
      "\t\"CouncilArea\" TEXT, \n",
      "\t\"Lattitude\" FLOAT, \n",
      "\t\"Longtitude\" FLOAT, \n",
      "\t\"Regionname\" TEXT, \n",
      "\t\"Propertycount\" FLOAT\n",
      ")\n",
      "\n",
      "\n",
      "2022-05-18 10:07:15,127 INFO sqlalchemy.engine.Engine [no key 0.00046s] ()\n",
      "2022-05-18 10:07:15,136 INFO sqlalchemy.engine.Engine CREATE INDEX ix_mlb_data_index ON mlb_data (\"index\")\n",
      "2022-05-18 10:07:15,137 INFO sqlalchemy.engine.Engine [no key 0.00094s] ()\n",
      "2022-05-18 10:07:15,143 INFO sqlalchemy.engine.Engine COMMIT\n",
      "2022-05-18 10:07:15,166 INFO sqlalchemy.engine.Engine BEGIN (implicit)\n",
      "2022-05-18 10:07:15,360 INFO sqlalchemy.engine.Engine INSERT INTO mlb_data (\"index\", \"Suburb\", \"Address\", \"Rooms\", \"Type\", \"Price\", \"Method\", \"SellerG\", \"Date\", \"Distance\", \"Postcode\", \"Bedroom2\", \"Bathroom\", \"Car\", \"Landsize\", \"BuildingArea\", \"YearBuilt\", \"CouncilArea\", \"Lattitude\", \"Longtitude\", \"Regionname\", \"Propertycount\") VALUES (?, ?, ?, ?, ?, ?, ?, ?, ?, ?, ?, ?, ?, ?, ?, ?, ?, ?, ?, ?, ?, ?)\n",
      "2022-05-18 10:07:15,360 INFO sqlalchemy.engine.Engine [generated in 0.16885s] ((0, 'Abbotsford', '85 Turner St', 2, 'h', 1480000.0, 'S', 'Biggin', '3/12/2016', 2.5, 3067.0, 2.0, 1.0, 1.0, 202.0, None, None, 'Yarra', -37.7996, 144.9984, 'Northern Metropolitan', 4019.0), (1, 'Abbotsford', '25 Bloomburg St', 2, 'h', 1035000.0, 'S', 'Biggin', '4/02/2016', 2.5, 3067.0, 2.0, 1.0, 0.0, 156.0, 79.0, 1900.0, 'Yarra', -37.8079, 144.9934, 'Northern Metropolitan', 4019.0), (2, 'Abbotsford', '5 Charles St', 3, 'h', 1465000.0, 'SP', 'Biggin', '4/03/2017', 2.5, 3067.0, 3.0, 2.0, 0.0, 134.0, 150.0, 1900.0, 'Yarra', -37.8093, 144.9944, 'Northern Metropolitan', 4019.0), (3, 'Abbotsford', '40 Federation La', 3, 'h', 850000.0, 'PI', 'Biggin', '4/03/2017', 2.5, 3067.0, 3.0, 2.0, 1.0, 94.0, None, None, 'Yarra', -37.7969, 144.9969, 'Northern Metropolitan', 4019.0), (4, 'Abbotsford', '55a Park St', 4, 'h', 1600000.0, 'VB', 'Nelson', '4/06/2016', 2.5, 3067.0, 3.0, 1.0, 2.0, 120.0, 142.0, 2014.0, 'Yarra', -37.8072, 144.9941, 'Northern Metropolitan', 4019.0), (5, 'Abbotsford', '129 Charles St', 2, 'h', 941000.0, 'S', 'Jellis', '7/05/2016', 2.5, 3067.0, 2.0, 1.0, 0.0, 181.0, None, None, 'Yarra', -37.8041, 144.9953, 'Northern Metropolitan', 4019.0), (6, 'Abbotsford', '124 Yarra St', 3, 'h', 1876000.0, 'S', 'Nelson', '7/05/2016', 2.5, 3067.0, 4.0, 2.0, 0.0, 245.0, 210.0, 1910.0, 'Yarra', -37.8024, 144.9993, 'Northern Metropolitan', 4019.0), (7, 'Abbotsford', '98 Charles St', 2, 'h', 1636000.0, 'S', 'Nelson', '8/10/2016', 2.5, 3067.0, 2.0, 1.0, 2.0, 256.0, 107.0, 1890.0, 'Yarra', -37.806, 144.9954, 'Northern Metropolitan', 4019.0)  ... displaying 10 of 13580 total bound parameter sets ...  (13578, 'Williamstown', '96 Verdon St', 4, 'h', 2500000.0, 'PI', 'Sweeney', '26/08/2017', 6.8, 3016.0, 4.0, 1.0, 5.0, 866.0, 157.0, 1920.0, None, -37.85908, 144.89299, 'Western Metropolitan', 6380.0), (13579, 'Yarraville', '6 Agnes St', 4, 'h', 1285000.0, 'SP', 'Village', '26/08/2017', 6.3, 3013.0, 4.0, 1.0, 1.0, 362.0, 112.0, 1920.0, None, -37.81188, 144.88449, 'Western Metropolitan', 6543.0))\n",
      "2022-05-18 10:07:15,461 INFO sqlalchemy.engine.Engine COMMIT\n"
     ]
    },
    {
     "ename": "NameError",
     "evalue": "name 'files' is not defined",
     "output_type": "error",
     "traceback": [
      "\u001b[1;31m---------------------------------------------------------------------------\u001b[0m",
      "\u001b[1;31mNameError\u001b[0m                                 Traceback (most recent call last)",
      "\u001b[1;32m~\\AppData\\Local\\Temp/ipykernel_25628/1406957038.py\u001b[0m in \u001b[0;36m<module>\u001b[1;34m\u001b[0m\n\u001b[0;32m      2\u001b[0m \u001b[1;33m\u001b[0m\u001b[0m\n\u001b[0;32m      3\u001b[0m \u001b[1;31m# Se sube el csv de los datos de aribnb\u001b[0m\u001b[1;33m\u001b[0m\u001b[1;33m\u001b[0m\u001b[1;33m\u001b[0m\u001b[0m\n\u001b[1;32m----> 4\u001b[1;33m \u001b[0muploaded\u001b[0m \u001b[1;33m=\u001b[0m \u001b[0mfiles\u001b[0m\u001b[1;33m.\u001b[0m\u001b[0mupload\u001b[0m\u001b[1;33m(\u001b[0m\u001b[1;33m)\u001b[0m\u001b[1;33m\u001b[0m\u001b[1;33m\u001b[0m\u001b[0m\n\u001b[0m\u001b[0;32m      5\u001b[0m \u001b[1;33m\u001b[0m\u001b[0m\n\u001b[0;32m      6\u001b[0m \u001b[0mfile_key\u001b[0m \u001b[1;33m=\u001b[0m \u001b[1;34m\"airbnb_price_by_zipcode.csv\"\u001b[0m  \u001b[1;31m# Replace for correspoing key\u001b[0m\u001b[1;33m\u001b[0m\u001b[1;33m\u001b[0m\u001b[0m\n",
      "\u001b[1;31mNameError\u001b[0m: name 'files' is not defined"
     ]
    }
   ],
   "source": [
    "melb_df.to_sql(\"mlb_data\", con=engine, if_exists=\"replace\")\n",
    "\n",
    "# Se sube el csv de los datos de aribnb\n",
    "uploaded = files.upload()\n",
    "\n",
    "file_key = \"airbnb_price_by_zipcode.csv\"  # Replace for correspoing key\n",
    "airbnb_df = pandas.read_csv(io.StringIO(uploaded[file_key].decode(\"utf-8\")))\n",
    "\n",
    "airbnb_df[:3]"
   ]
  },
  {
   "cell_type": "markdown",
   "id": "MCgpbinbUCJN",
   "metadata": {
    "id": "MCgpbinbUCJN"
   },
   "source": []
  },
  {
   "cell_type": "markdown",
   "id": "JJWIW2TiVTxj",
   "metadata": {
    "id": "JJWIW2TiVTxj"
   },
   "source": [
    "### Se ingresan los datos de arbnb a la base de datos"
   ]
  },
  {
   "cell_type": "code",
   "execution_count": null,
   "id": "QBmSJcEEVXVr",
   "metadata": {
    "colab": {
     "base_uri": "https://localhost:8080/"
    },
    "id": "QBmSJcEEVXVr",
    "outputId": "a00c0303-e095-452e-bf4d-c0f907f0cd7e"
   },
   "outputs": [],
   "source": [
    "airbnb_df.to_sql(\"airbnb_data\", con=engine, if_exists=\"replace\")"
   ]
  },
  {
   "cell_type": "markdown",
   "id": "Dw6TSy_TVaoz",
   "metadata": {
    "id": "Dw6TSy_TVaoz"
   },
   "source": [
    "### Cantidad de registros totales por ciudad"
   ]
  },
  {
   "cell_type": "code",
   "execution_count": null,
   "id": "b2kVb-ypVejF",
   "metadata": {
    "colab": {
     "base_uri": "https://localhost:8080/",
     "height": 459
    },
    "id": "b2kVb-ypVejF",
    "outputId": "d08d6b2c-1cd3-4d6e-86d3-57cde472e079"
   },
   "outputs": [],
   "source": [
    "query = \"SELECT Postcode, COUNT(*) FROM mlb_data GROUP BY Postcode\"\n",
    "\n",
    "df = pandas.read_sql_query(sql=query, con=engine)\n",
    "\n",
    "df"
   ]
  },
  {
   "cell_type": "markdown",
   "id": "IhBi03XDVhAt",
   "metadata": {
    "id": "IhBi03XDVhAt"
   },
   "source": [
    "### Cantidad de registros totales por barrio y ciudad"
   ]
  },
  {
   "cell_type": "code",
   "execution_count": null,
   "id": "JTuGHWnsVifJ",
   "metadata": {
    "colab": {
     "base_uri": "https://localhost:8080/",
     "height": 459
    },
    "id": "JTuGHWnsVifJ",
    "outputId": "09d43fe8-0f00-4a59-d613-88c0b1846bf5"
   },
   "outputs": [],
   "source": [
    "query = \"SELECT Postcode, Suburb ,count(1) as Count FROM mlb_data GROUP BY Postcode, Suburb\"\n",
    "\n",
    "df = pandas.read_sql_query(sql=query, con=engine)\n",
    "\n",
    "df"
   ]
  },
  {
   "cell_type": "markdown",
   "id": "P0_mojsqVmiS",
   "metadata": {
    "id": "P0_mojsqVmiS"
   },
   "source": [
    "### Combinar los datasets de ambas tablas ingestadas utilizando el comando `JOIN` de SQL para obtener un resultado similar a lo realizado con Pandas en clase"
   ]
  },
  {
   "cell_type": "code",
   "execution_count": null,
   "id": "FdoWmsD-VpqC",
   "metadata": {
    "colab": {
     "base_uri": "https://localhost:8080/",
     "height": 717
    },
    "id": "FdoWmsD-VpqC",
    "outputId": "b1b889cd-506d-4950-fa11-75773a6e435d"
   },
   "outputs": [],
   "source": [
    "query = \"SELECT * FROM mlb_data LEFT JOIN airbnb_data ON mlb_data.Postcode=airbnb_data.zipcode LIMIT 10\"\n",
    "\n",
    "df = pandas.read_sql_query(sql=query, con=engine)\n",
    "\n",
    "df[:20]\n"
   ]
  },
  {
   "cell_type": "markdown",
   "id": "c5468c4f-5cdf-4df4-a317-60e1fb0c00db",
   "metadata": {
    "id": "c5468c4f-5cdf-4df4-a317-60e1fb0c00db"
   },
   "source": [
    "## Ejercicio 2: \n",
    "\n",
    "1. Seleccionar un subconjunto de columnas que les parezcan relevantes al problema de predicción del valor de la propiedad. Justificar las columnas seleccionadas y las que no lo fueron.\n",
    " - Eliminar los valores extremos que no sean relevantes para la predicción de valores de las propiedades.\n",
    "\n",
    "2. Agregar información adicional respectiva al entorno de una propiedad a partir del [conjunto de datos de AirBnB](https://www.kaggle.com/tylerx/melbourne-airbnb-open-data?select=cleansed_listings_dec18.csv) utilizado en el práctico. \n",
    "  1. Seleccionar qué variables agregar y qué combinaciones aplicar a cada una. Por ejemplo, pueden utilizar solo la columna `price`, o aplicar múltiples transformaciones como la mediana o el mínimo.\n",
    "  1. Utilizar la variable zipcode para unir los conjuntos de datos. Sólo incluir los zipcodes que tengan una cantidad mínima de registros (a elección) como para que la información agregada sea relevante.\n",
    "  2. Investigar al menos otras 2 variables que puedan servir para combinar los datos, y justificar si serían adecuadas o no. Pueden asumir que cuentan con la ayuda de anotadores expertos para encontrar equivalencias entre barrios o direcciones, o que cuentan con algoritmos para encontrar las n ubicaciones más cercanas a una propiedad a partir de sus coordenadas geográficas. **NO** es necesario que realicen la implementación.\n",
    "\n",
    "Pueden leer otras columnas del conjunto de AirBnB además de las que están en `interesting_cols`, si les parecen relevantes."
   ]
  },
  {
   "cell_type": "markdown",
   "id": "V612twhsVxAN",
   "metadata": {
    "id": "V612twhsVxAN"
   },
   "source": [
    "# Solución\n",
    "\n",
    "### Se exploran las columnas del dataset de melborn"
   ]
  },
  {
   "cell_type": "code",
   "execution_count": null,
   "id": "Jb1zEfHbV1ge",
   "metadata": {
    "colab": {
     "base_uri": "https://localhost:8080/"
    },
    "id": "Jb1zEfHbV1ge",
    "outputId": "0b4e538b-2060-475a-ae5d-d08885c36163"
   },
   "outputs": [],
   "source": [
    "melb_df.columns"
   ]
  },
  {
   "cell_type": "markdown",
   "id": "fRI8_mpUV64Z",
   "metadata": {
    "id": "fRI8_mpUV64Z"
   },
   "source": [
    "Se eligen las siguientes columnas del dataset de melborn, para la predicción del precio\n",
    "ello en razón de que son las que más pueden impactar en el precio de una casa.\n",
    "Quizas la ubicación, como el barrio, la ciudad, la región, podrían ser otros\n",
    "datos que impacten en el precio. Pero dado el desconocimiento que tenemos sobre la relevancia de la ubicación geográfica,\n",
    " las columnas elegidas serían las siguientes para determinar el precio."
   ]
  },
  {
   "cell_type": "code",
   "execution_count": null,
   "id": "kB7OWSHVWGtJ",
   "metadata": {
    "colab": {
     "base_uri": "https://localhost:8080/",
     "height": 318
    },
    "id": "kB7OWSHVWGtJ",
    "outputId": "bf5b9c2d-65eb-442f-fbff-b451aac785c8"
   },
   "outputs": [],
   "source": [
    "colums_predict_price = [\n",
    "    \"Address\",\n",
    "    \"Rooms\",\n",
    "    \"Price\",\n",
    "    \"Bedroom2\",\n",
    "    \"Bathroom\",\n",
    "    \"Landsize\",\n",
    "    \"Car\",\n",
    "]\n",
    "melb_df.loc[:, colums_predict_price]\n",
    "\n",
    "# se ven algunas métricas del dataset melborn\n",
    "melb_df[\"Price\"].describe().apply(lambda s: \"{0:.2f}\".format(s))\n",
    "\n",
    "seaborn.histplot(melb_df.Price.dropna())"
   ]
  },
  {
   "cell_type": "code",
   "execution_count": null,
   "id": "JfvaWjn5WCHi",
   "metadata": {
    "colab": {
     "base_uri": "https://localhost:8080/",
     "height": 518
    },
    "id": "JfvaWjn5WCHi",
    "outputId": "848fd5c1-91fa-43a2-aa05-73f48e8b75a0"
   },
   "outputs": [],
   "source": [
    "min_price = melb_df.Price.quantile(0.05)\n",
    "max_price = melb_df.Price.quantile(0.95)\n",
    "\n",
    "melb_df_filtered = melb_df[\n",
    "    (melb_df[\"Price\"] > min_price) & (melb_df[\"Price\"] < max_price)\n",
    "]\n",
    "\n",
    "fig, axes = plt.subplots(nrows=2, figsize=(16, 8))\n",
    "seaborn.histplot(melb_df[\"Price\"], bins=100, ax=axes[0], color=\"gray\")\n",
    "axes[0].axvline(\n",
    "    melb_df[\"Price\"].mean(), color=\"orangered\", linestyle=\"--\", label=\"Media\"\n",
    ")\n",
    "axes[0].axvline(\n",
    "    melb_df[\"Price\"].median(), color=\"indigo\", linestyle=\"-.\", label=\"Mediana\"\n",
    ")\n",
    "\n",
    "# filtered_df = melb_df[(melb_df['Price']< 85000)]# & (melb_df['Price']> 85000)]\n",
    "seaborn.histplot(melb_df_filtered[\"Price\"], bins=100, ax=axes[1], color=\"gray\")\n",
    "axes[1].axvline(\n",
    "    melb_df_filtered[\"Price\"].mean(), color=\"orangered\", linestyle=\"--\", label=\"Media\"\n",
    ")\n",
    "axes[1].axvline(\n",
    "    melb_df_filtered[\"Price\"].median(), color=\"indigo\", linestyle=\"-.\", label=\"Mediana\"\n",
    ")\n",
    "\n",
    "axes[0].legend()\n",
    "seaborn.despine()\n"
   ]
  },
  {
   "cell_type": "code",
   "execution_count": null,
   "id": "nIvhHOSnWNZ5",
   "metadata": {
    "colab": {
     "base_uri": "https://localhost:8080/",
     "height": 210
    },
    "id": "nIvhHOSnWNZ5",
    "outputId": "a75a0add-642c-496f-e77a-3898c7ce25fd"
   },
   "outputs": [],
   "source": [
    "\n",
    "airbnb_df_all = pandas.read_csv(\n",
    "    \"https://cs.famaf.unc.edu.ar/~mteruel/datasets/diplodatos/cleansed_listings_dec18.csv\"\n",
    ")\n",
    "\n",
    "airbnb_df_all.columns\n",
    "\n",
    "airbnb_df_all[\"zipcode\"] = pandas.to_numeric(airbnb_df_all.zipcode, errors=\"coerce\")\n",
    "\n",
    "airbnb_df_all[\"airbnb_zipcode_counter\"] = airbnb_df_all.zipcode.value_counts()\n",
    "\n",
    "airbnb_df_all.loc[:3, [\"accommodates\", \"bathrooms\", \"bedrooms\", \"beds\"]]"
   ]
  },
  {
   "cell_type": "markdown",
   "id": "GYZEUuCTWQOX",
   "metadata": {
    "id": "GYZEUuCTWQOX"
   },
   "source": [
    "### 2.1) Se determinan las variables a agregar y las combinaciones"
   ]
  },
  {
   "cell_type": "code",
   "execution_count": null,
   "id": "ii2inRCfWUFi",
   "metadata": {
    "colab": {
     "base_uri": "https://localhost:8080/",
     "height": 207
    },
    "id": "ii2inRCfWUFi",
    "outputId": "569f6f46-d671-41d6-d0c2-338246f7757e"
   },
   "outputs": [],
   "source": [
    "relevant_cols = [\n",
    "    \"price\",\n",
    "    \"weekly_price\",\n",
    "    \"monthly_price\",\n",
    "    \"security_deposit\",\n",
    "    \"review_scores_rating\",\n",
    "    \"review_scores_location\",\n",
    "    \"zipcode\",\n",
    "]\n",
    "\n",
    "airbnb_price_by_zipcode = (\n",
    "    airbnb_df_all[relevant_cols]\n",
    "    .groupby(\"zipcode\")\n",
    "    .agg(\n",
    "        airbnb_price_mean=(\"price\", \"mean\"),\n",
    "        airbnb_price_median=(\"price\", \"median\"),\n",
    "        airbnb_price_min=(\"price\", \"min\"),\n",
    "        airbnb_price_max=(\"price\", \"max\"),\n",
    "        airbnb_weekly_price_mean=(\"weekly_price\", \"mean\"),\n",
    "        airbnb_monthly_price_mean=(\"monthly_price\", \"mean\"),\n",
    "        airbnb_security_deposit_mean=(\"security_deposit\", \"mean\"),\n",
    "        airbnb_review_scores_rating_mean=(\"review_scores_rating\", \"mean\"),\n",
    "        airbnb_review_scores_location_mean=(\"review_scores_location\", \"mean\"),\n",
    "    )\n",
    "    .reset_index()\n",
    ")\n",
    "\n",
    "airbnb_price_by_zipcode[:3]"
   ]
  },
  {
   "cell_type": "code",
   "execution_count": null,
   "id": "hBb0OWjsWYaV",
   "metadata": {
    "colab": {
     "base_uri": "https://localhost:8080/"
    },
    "id": "hBb0OWjsWYaV",
    "outputId": "5b50ae38-fd2d-4a7a-8a37-d1b1ceffb65a"
   },
   "outputs": [],
   "source": [
    "\n",
    "airbnb_df_all.zipcode.value_counts()\n",
    "\n",
    "reg_mayor_50 = airbnb_df_all[airbnb_df_all[\"airbnb_zipcode_counter\"] >= 25]\n",
    "zipcode_reg = reg_mayor_50[\"zipcode\"]\n",
    "airbnb_price_by_zipcode_filtered = airbnb_price_by_zipcode[\n",
    "    airbnb_price_by_zipcode[\"zipcode\"].isin(zipcode_reg)\n",
    "]\n",
    "len(airbnb_price_by_zipcode_filtered)"
   ]
  },
  {
   "cell_type": "markdown",
   "id": "mggy9sVJWcVs",
   "metadata": {
    "id": "mggy9sVJWcVs"
   },
   "source": [
    "### 2.2) Se usa la variable zipcode para unir el conjunto de datos"
   ]
  },
  {
   "cell_type": "code",
   "execution_count": null,
   "id": "U66HPoybWe0-",
   "metadata": {
    "colab": {
     "base_uri": "https://localhost:8080/",
     "height": 386
    },
    "id": "U66HPoybWe0-",
    "outputId": "d7dcecb4-91b2-463a-f0d8-b9df6ec4f2a7"
   },
   "outputs": [],
   "source": [
    "merged_sales_df = melb_df_filtered.merge(\n",
    "    airbnb_price_by_zipcode_filtered, how=\"left\", left_on=\"Postcode\", right_on=\"zipcode\"\n",
    ")\n",
    "merged_sales_df.sample(5)"
   ]
  },
  {
   "cell_type": "markdown",
   "id": "QvRp2w15WlqD",
   "metadata": {
    "id": "QvRp2w15WlqD"
   },
   "source": [
    "2.3) En cuanto a otras variables (o campos) de los datasets analizados, que podrían ser consideradas a los fines de poder combinar los datos, podrían ser considereadas las siguientes:\n",
    "\n",
    "- **El campo city del dataset de airbnb y el campo CouncilArea del dataset de Melbourn:**\n",
    "La factibilidad de poder utilizar estos campos la pudimos constatar al analizar algunos datos, y verificar que en ambas columnas hay información coincidente en cuanto a nombres de regiones o áreas administrativas, en las que se dividen las ciudades de Australia (algo similar a comunas o partidos). \n",
    "En consecuencia, el uso de estas variables permitiría generar otro tipo de combinaciones, que permitan obtener información que ayude a predecir los precios tomando como base el espacio administrativo en donde se radican las casas. \n",
    "\n",
    "- **Los campos latitud y longitud presente en ambos datasets:**\n",
    "Asumiendo que se cuenta con un algoritmo que permite encontrar las distintas ubicaciones más cercanas a una propiedad a partir de sus coordenadas geográficas. Se toman las variables latitud y longitud presente en ambos datasets.\n",
    "\n",
    " - *Latitud*: Es la distancia en grados, minutos y segundos que hay con respecto al paralelo principal, que es el ecuador (0º). La latitud puede ser norte y sur. \n",
    "\n",
    " - *Longitud*: Es la distancia en grados, minutos y segundos que hay con respecto al meridiano principal, que es el meridiano de Greenwich (0º).\n",
    "\n",
    "  Para el dataset de Melbourne serían las columnas Lattitude y Longtitude y para el de Airbnb las columnas latitude y longitude.\n",
    "\n",
    "  Para verificar que las áreas representadas por ambos datasets son consistentes en su ubicación geográfica, por medio de las variables seleccionadas(latitud y logitud), se realiza la siguiente exploración visual."
   ]
  },
  {
   "cell_type": "code",
   "execution_count": null,
   "id": "tFlWF9YFXOiG",
   "metadata": {
    "colab": {
     "base_uri": "https://localhost:8080/",
     "height": 542
    },
    "id": "tFlWF9YFXOiG",
    "outputId": "69fe1046-5d56-4f3a-fffe-9de7c55863ba"
   },
   "outputs": [],
   "source": [
    "import plotly.express as px\n",
    "data = melb_df.sample(300)\n",
    "fig = px.scatter_geo(\n",
    "    data, lat=data.Lattitude, lon=data.Longtitude, color=data.YearBuilt\n",
    "    )\n",
    "fig.update_geos(fitbounds=\"locations\")\n",
    "fig.show()"
   ]
  },
  {
   "cell_type": "code",
   "execution_count": null,
   "id": "ThdxQssPXUtZ",
   "metadata": {
    "colab": {
     "base_uri": "https://localhost:8080/",
     "height": 542
    },
    "id": "ThdxQssPXUtZ",
    "outputId": "8e23f7a6-b2e6-4e7d-debf-e241fdea8e7a"
   },
   "outputs": [],
   "source": [
    "# Para airbnb\n",
    "import plotly.express as px\n",
    "color_col = 'city'\n",
    "data = airbnb_df_all[~airbnb_df_all[color_col].isna()].sample(300)\n",
    "fig = px.scatter_geo(\n",
    "    data, lat=data.latitude, lon=data.longitude, color=data[color_col]\n",
    "    )\n",
    "fig.update_geos(fitbounds=\"locations\")\n",
    "fig.show()"
   ]
  },
  {
   "cell_type": "markdown",
   "id": "HsRBvotHXcsP",
   "metadata": {
    "id": "HsRBvotHXcsP"
   },
   "source": [
    "Se puede observar que se tratan de zonas similares. Por lo tanto luego de un trabajo de curación sobre las columnas seleccionadas de ambos datasets y con la ayuda del algoritmo de geolocalización y cálculo de distancias se puede llevar a cabo una combinación de información que permita tener mejores herramientas para la estimación de los precios de las propiedades."
   ]
  },
  {
   "cell_type": "markdown",
   "id": "c5303f27-3b15-441b-b291-8caf1c734139",
   "metadata": {
    "id": "c5303f27-3b15-441b-b291-8caf1c734139"
   },
   "source": [
    "## Ejercicio 3:\n",
    "\n",
    "Crear y guardar un nuevo conjunto de datos con todas las transformaciones realizadas anteriormente."
   ]
  },
  {
   "cell_type": "markdown",
   "id": "v7WbFZX5Y91W",
   "metadata": {
    "id": "v7WbFZX5Y91W"
   },
   "source": [
    "# Solución"
   ]
  },
  {
   "cell_type": "code",
   "execution_count": null,
   "id": "BEUxJGmOXqCn",
   "metadata": {
    "colab": {
     "base_uri": "https://localhost:8080/",
     "height": 17
    },
    "id": "BEUxJGmOXqCn",
    "outputId": "5037549d-8168-4cd2-c02a-107b214dcf13"
   },
   "outputs": [],
   "source": [
    "merged_sales_df.to_csv(\"melb_data_extended.csv\", index=None)\n",
    "\n",
    "files.download(\"melb_data_extended.csv\")"
   ]
  },
  {
   "cell_type": "markdown",
   "id": "abfd3eeb-d466-424b-b58e-d1364ac39206",
   "metadata": {
    "id": "abfd3eeb-d466-424b-b58e-d1364ac39206"
   },
   "source": [
    "## Ejercicios opcionales:\n",
    "\n",
    "1. Armar un script en python (archivo .py) [ETL](https://towardsdatascience.com/what-to-log-from-python-etl-pipelines-9e0cfe29950e) que corra los pasos de extraccion, transformacion y carga, armando una funcion para cada etapa del proceso y luego un main que corra todos los pasos requeridos.\n",
    "\n",
    "2. Armar un DAG en Apache Airflow que corra el ETL. (https://airflow.apache.org/docs/apache-airflow/stable/tutorial.html)"
   ]
  },
  {
   "cell_type": "code",
   "execution_count": null,
   "id": "5d210b95-836f-45ac-a52d-1a4dafdb447a",
   "metadata": {
    "id": "5d210b95-836f-45ac-a52d-1a4dafdb447a"
   },
   "outputs": [],
   "source": []
  }
 ],
 "metadata": {
  "colab": {
   "collapsed_sections": [],
   "name": "entregable_parte_1_22.ipynb",
   "provenance": []
  },
  "kernelspec": {
   "display_name": "Python 3 (ipykernel)",
   "language": "python",
   "name": "python3"
  },
  "language_info": {
   "codemirror_mode": {
    "name": "ipython",
    "version": 3
   },
   "file_extension": ".py",
   "mimetype": "text/x-python",
   "name": "python",
   "nbconvert_exporter": "python",
   "pygments_lexer": "ipython3",
   "version": "3.8.3"
  }
 },
 "nbformat": 4,
 "nbformat_minor": 5
}
