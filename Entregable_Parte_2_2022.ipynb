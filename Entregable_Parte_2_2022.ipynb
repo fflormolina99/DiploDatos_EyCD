{
  "cells": [
    {
      "cell_type": "markdown",
      "metadata": {
        "id": "zO4bRoxr2Apy"
      },
      "source": [
        "**Diplomatura en Ciencia de Datos, Aprendizaje Automático y sus Aplicaciones**\n",
        "\n",
        "**Exploración y Curación de Datos**\n",
        "\n",
        "*Edición 2022*\n",
        "\n",
        "----\n",
        "\n",
        "# Trabajo práctico entregable - parte 2\n",
        "\n",
        "\n",
        "En el ejercicio 2 de la parte 1 del entregable seleccionaron las filas y columnas relevantes al problema de predicción de precios de una propiedad e imputaron los valores faltantes de las columnas `Suburb` y las columnas obtenidas a partir del conjunto de datos `airbnb`.\n",
        "\n",
        "En esta notebook, **se utilizará resultado de dichas operaciones.** que fue guardado en un archivo (Ejercicio 3 entregable 1). \n"
      ]
    },
    {
      "cell_type": "code",
      "execution_count": 1,
      "metadata": {
        "id": "4udjxjk1EtVU"
      },
      "outputs": [],
      "source": [
        "import matplotlib.pyplot as plt\n",
        "import numpy\n",
        "import pandas\n",
        "\n",
        "import seaborn\n",
        "seaborn.set_context('talk')\n",
        "\n",
        "\n",
        "from google.colab import files\n",
        "import io"
      ]
    },
    {
      "cell_type": "code",
      "execution_count": 2,
      "metadata": {
        "colab": {
          "base_uri": "https://localhost:8080/",
          "height": 367,
          "resources": {
            "http://localhost:8080/nbextensions/google.colab/files.js": {
              "data": "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",
              "headers": [
                [
                  "content-type",
                  "application/javascript"
                ]
              ],
              "ok": true,
              "status": 200,
              "status_text": "OK"
            }
          }
        },
        "id": "_qeFN3GnEvMk",
        "outputId": "cee485b1-4cfe-4965-8f2d-e9677830bd01"
      },
      "outputs": [
        {
          "output_type": "display_data",
          "data": {
            "text/plain": [
              "<IPython.core.display.HTML object>"
            ],
            "text/html": [
              "\n",
              "     <input type=\"file\" id=\"files-f6c5f4c3-5826-4837-80f0-43cf0040ea50\" name=\"files[]\" multiple disabled\n",
              "        style=\"border:none\" />\n",
              "     <output id=\"result-f6c5f4c3-5826-4837-80f0-43cf0040ea50\">\n",
              "      Upload widget is only available when the cell has been executed in the\n",
              "      current browser session. Please rerun this cell to enable.\n",
              "      </output>\n",
              "      <script src=\"/nbextensions/google.colab/files.js\"></script> "
            ]
          },
          "metadata": {}
        },
        {
          "output_type": "stream",
          "name": "stdout",
          "text": [
            "Saving melb_data_extended.csv to melb_data_extended.csv\n"
          ]
        },
        {
          "output_type": "execute_result",
          "data": {
            "text/plain": [
              "       Suburb          Address  Rooms Type      Price Method SellerG  \\\n",
              "0  Abbotsford     85 Turner St      2    h  1480000.0      S  Biggin   \n",
              "1  Abbotsford  25 Bloomburg St      2    h  1035000.0      S  Biggin   \n",
              "2  Abbotsford     5 Charles St      3    h  1465000.0     SP  Biggin   \n",
              "\n",
              "        Date  Distance  Postcode  ...  zipcode  airbnb_price_mean  \\\n",
              "0  3/12/2016       2.5    3067.0  ...   3067.0         130.624031   \n",
              "1  4/02/2016       2.5    3067.0  ...   3067.0         130.624031   \n",
              "2  4/03/2017       2.5    3067.0  ...   3067.0         130.624031   \n",
              "\n",
              "   airbnb_price_median  airbnb_price_min  airbnb_price_max  \\\n",
              "0                100.0              28.0             900.0   \n",
              "1                100.0              28.0             900.0   \n",
              "2                100.0              28.0             900.0   \n",
              "\n",
              "   airbnb_weekly_price_mean airbnb_monthly_price_mean  \\\n",
              "0                605.152174               2187.032258   \n",
              "1                605.152174               2187.032258   \n",
              "2                605.152174               2187.032258   \n",
              "\n",
              "   airbnb_security_deposit_mean  airbnb_review_scores_rating_mean  \\\n",
              "0                    238.141026                         95.288462   \n",
              "1                    238.141026                         95.288462   \n",
              "2                    238.141026                         95.288462   \n",
              "\n",
              "  airbnb_review_scores_location_mean  \n",
              "0                           9.697115  \n",
              "1                           9.697115  \n",
              "2                           9.697115  \n",
              "\n",
              "[3 rows x 31 columns]"
            ],
            "text/html": [
              "\n",
              "  <div id=\"df-3e0d18c4-3dd0-42ef-9c71-5fde78f9c543\">\n",
              "    <div class=\"colab-df-container\">\n",
              "      <div>\n",
              "<style scoped>\n",
              "    .dataframe tbody tr th:only-of-type {\n",
              "        vertical-align: middle;\n",
              "    }\n",
              "\n",
              "    .dataframe tbody tr th {\n",
              "        vertical-align: top;\n",
              "    }\n",
              "\n",
              "    .dataframe thead th {\n",
              "        text-align: right;\n",
              "    }\n",
              "</style>\n",
              "<table border=\"1\" class=\"dataframe\">\n",
              "  <thead>\n",
              "    <tr style=\"text-align: right;\">\n",
              "      <th></th>\n",
              "      <th>Suburb</th>\n",
              "      <th>Address</th>\n",
              "      <th>Rooms</th>\n",
              "      <th>Type</th>\n",
              "      <th>Price</th>\n",
              "      <th>Method</th>\n",
              "      <th>SellerG</th>\n",
              "      <th>Date</th>\n",
              "      <th>Distance</th>\n",
              "      <th>Postcode</th>\n",
              "      <th>...</th>\n",
              "      <th>zipcode</th>\n",
              "      <th>airbnb_price_mean</th>\n",
              "      <th>airbnb_price_median</th>\n",
              "      <th>airbnb_price_min</th>\n",
              "      <th>airbnb_price_max</th>\n",
              "      <th>airbnb_weekly_price_mean</th>\n",
              "      <th>airbnb_monthly_price_mean</th>\n",
              "      <th>airbnb_security_deposit_mean</th>\n",
              "      <th>airbnb_review_scores_rating_mean</th>\n",
              "      <th>airbnb_review_scores_location_mean</th>\n",
              "    </tr>\n",
              "  </thead>\n",
              "  <tbody>\n",
              "    <tr>\n",
              "      <th>0</th>\n",
              "      <td>Abbotsford</td>\n",
              "      <td>85 Turner St</td>\n",
              "      <td>2</td>\n",
              "      <td>h</td>\n",
              "      <td>1480000.0</td>\n",
              "      <td>S</td>\n",
              "      <td>Biggin</td>\n",
              "      <td>3/12/2016</td>\n",
              "      <td>2.5</td>\n",
              "      <td>3067.0</td>\n",
              "      <td>...</td>\n",
              "      <td>3067.0</td>\n",
              "      <td>130.624031</td>\n",
              "      <td>100.0</td>\n",
              "      <td>28.0</td>\n",
              "      <td>900.0</td>\n",
              "      <td>605.152174</td>\n",
              "      <td>2187.032258</td>\n",
              "      <td>238.141026</td>\n",
              "      <td>95.288462</td>\n",
              "      <td>9.697115</td>\n",
              "    </tr>\n",
              "    <tr>\n",
              "      <th>1</th>\n",
              "      <td>Abbotsford</td>\n",
              "      <td>25 Bloomburg St</td>\n",
              "      <td>2</td>\n",
              "      <td>h</td>\n",
              "      <td>1035000.0</td>\n",
              "      <td>S</td>\n",
              "      <td>Biggin</td>\n",
              "      <td>4/02/2016</td>\n",
              "      <td>2.5</td>\n",
              "      <td>3067.0</td>\n",
              "      <td>...</td>\n",
              "      <td>3067.0</td>\n",
              "      <td>130.624031</td>\n",
              "      <td>100.0</td>\n",
              "      <td>28.0</td>\n",
              "      <td>900.0</td>\n",
              "      <td>605.152174</td>\n",
              "      <td>2187.032258</td>\n",
              "      <td>238.141026</td>\n",
              "      <td>95.288462</td>\n",
              "      <td>9.697115</td>\n",
              "    </tr>\n",
              "    <tr>\n",
              "      <th>2</th>\n",
              "      <td>Abbotsford</td>\n",
              "      <td>5 Charles St</td>\n",
              "      <td>3</td>\n",
              "      <td>h</td>\n",
              "      <td>1465000.0</td>\n",
              "      <td>SP</td>\n",
              "      <td>Biggin</td>\n",
              "      <td>4/03/2017</td>\n",
              "      <td>2.5</td>\n",
              "      <td>3067.0</td>\n",
              "      <td>...</td>\n",
              "      <td>3067.0</td>\n",
              "      <td>130.624031</td>\n",
              "      <td>100.0</td>\n",
              "      <td>28.0</td>\n",
              "      <td>900.0</td>\n",
              "      <td>605.152174</td>\n",
              "      <td>2187.032258</td>\n",
              "      <td>238.141026</td>\n",
              "      <td>95.288462</td>\n",
              "      <td>9.697115</td>\n",
              "    </tr>\n",
              "  </tbody>\n",
              "</table>\n",
              "<p>3 rows × 31 columns</p>\n",
              "</div>\n",
              "      <button class=\"colab-df-convert\" onclick=\"convertToInteractive('df-3e0d18c4-3dd0-42ef-9c71-5fde78f9c543')\"\n",
              "              title=\"Convert this dataframe to an interactive table.\"\n",
              "              style=\"display:none;\">\n",
              "        \n",
              "  <svg xmlns=\"http://www.w3.org/2000/svg\" height=\"24px\"viewBox=\"0 0 24 24\"\n",
              "       width=\"24px\">\n",
              "    <path d=\"M0 0h24v24H0V0z\" fill=\"none\"/>\n",
              "    <path d=\"M18.56 5.44l.94 2.06.94-2.06 2.06-.94-2.06-.94-.94-2.06-.94 2.06-2.06.94zm-11 1L8.5 8.5l.94-2.06 2.06-.94-2.06-.94L8.5 2.5l-.94 2.06-2.06.94zm10 10l.94 2.06.94-2.06 2.06-.94-2.06-.94-.94-2.06-.94 2.06-2.06.94z\"/><path d=\"M17.41 7.96l-1.37-1.37c-.4-.4-.92-.59-1.43-.59-.52 0-1.04.2-1.43.59L10.3 9.45l-7.72 7.72c-.78.78-.78 2.05 0 2.83L4 21.41c.39.39.9.59 1.41.59.51 0 1.02-.2 1.41-.59l7.78-7.78 2.81-2.81c.8-.78.8-2.07 0-2.86zM5.41 20L4 18.59l7.72-7.72 1.47 1.35L5.41 20z\"/>\n",
              "  </svg>\n",
              "      </button>\n",
              "      \n",
              "  <style>\n",
              "    .colab-df-container {\n",
              "      display:flex;\n",
              "      flex-wrap:wrap;\n",
              "      gap: 12px;\n",
              "    }\n",
              "\n",
              "    .colab-df-convert {\n",
              "      background-color: #E8F0FE;\n",
              "      border: none;\n",
              "      border-radius: 50%;\n",
              "      cursor: pointer;\n",
              "      display: none;\n",
              "      fill: #1967D2;\n",
              "      height: 32px;\n",
              "      padding: 0 0 0 0;\n",
              "      width: 32px;\n",
              "    }\n",
              "\n",
              "    .colab-df-convert:hover {\n",
              "      background-color: #E2EBFA;\n",
              "      box-shadow: 0px 1px 2px rgba(60, 64, 67, 0.3), 0px 1px 3px 1px rgba(60, 64, 67, 0.15);\n",
              "      fill: #174EA6;\n",
              "    }\n",
              "\n",
              "    [theme=dark] .colab-df-convert {\n",
              "      background-color: #3B4455;\n",
              "      fill: #D2E3FC;\n",
              "    }\n",
              "\n",
              "    [theme=dark] .colab-df-convert:hover {\n",
              "      background-color: #434B5C;\n",
              "      box-shadow: 0px 1px 3px 1px rgba(0, 0, 0, 0.15);\n",
              "      filter: drop-shadow(0px 1px 2px rgba(0, 0, 0, 0.3));\n",
              "      fill: #FFFFFF;\n",
              "    }\n",
              "  </style>\n",
              "\n",
              "      <script>\n",
              "        const buttonEl =\n",
              "          document.querySelector('#df-3e0d18c4-3dd0-42ef-9c71-5fde78f9c543 button.colab-df-convert');\n",
              "        buttonEl.style.display =\n",
              "          google.colab.kernel.accessAllowed ? 'block' : 'none';\n",
              "\n",
              "        async function convertToInteractive(key) {\n",
              "          const element = document.querySelector('#df-3e0d18c4-3dd0-42ef-9c71-5fde78f9c543');\n",
              "          const dataTable =\n",
              "            await google.colab.kernel.invokeFunction('convertToInteractive',\n",
              "                                                     [key], {});\n",
              "          if (!dataTable) return;\n",
              "\n",
              "          const docLinkHtml = 'Like what you see? Visit the ' +\n",
              "            '<a target=\"_blank\" href=https://colab.research.google.com/notebooks/data_table.ipynb>data table notebook</a>'\n",
              "            + ' to learn more about interactive tables.';\n",
              "          element.innerHTML = '';\n",
              "          dataTable['output_type'] = 'display_data';\n",
              "          await google.colab.output.renderOutput(dataTable, element);\n",
              "          const docLink = document.createElement('div');\n",
              "          docLink.innerHTML = docLinkHtml;\n",
              "          element.appendChild(docLink);\n",
              "        }\n",
              "      </script>\n",
              "    </div>\n",
              "  </div>\n",
              "  "
            ]
          },
          "metadata": {},
          "execution_count": 2
        }
      ],
      "source": [
        "# Se importa el DataSet generado en el ejercicio 3 de la primer parte del entregable.\n",
        "uploaded = files.upload()\n",
        "\n",
        "file_key = \"melb_data_extended.csv\" \n",
        "melb_df = pandas.read_csv(io.StringIO(uploaded[file_key].decode(\"utf-8\")))\n",
        "melb_df[:3]"
      ]
    },
    {
      "cell_type": "markdown",
      "metadata": {
        "id": "s-mixICN22kA"
      },
      "source": [
        "## Ejercicio 1: Encoding\n",
        "\n",
        "1. Seleccionar todas las filas y columnas del conjunto de datos obtenido en la parte 1 del entregable, **excepto** `BuildingArea` y `YearBuilt`, que volveremos a imputar más adelante.\n",
        "\n",
        "2. Aplicar una codificación One-hot encoding a cada fila, tanto para variables numéricas como categóricas. Si lo consideran necesario, pueden volver a reducir el número de categorías únicas.\n",
        "\n",
        "Algunas opciones:\n",
        "  1. Utilizar `OneHotEncoder` junto con el parámetro `categories` para las variables categóricas y luego usar `numpy.hstack` para concatenar el resultado con las variables numéricas. \n",
        "  2. `DictVectorizer` con algunos pasos de pre-proceso previo.\n",
        "\n",
        "Recordar también que el atributo `pandas.DataFrame.values` permite acceder a la matriz de numpy subyacente a un DataFrame.\n"
      ]
    },
    {
      "cell_type": "markdown",
      "source": [
        "### Solución\n",
        "En esta línea se obtiene el nombre de las columnas que luego se usarań en el Dictverctorizer"
      ],
      "metadata": {
        "id": "2LmVlceftGGH"
      }
    },
    {
      "cell_type": "code",
      "execution_count": 9,
      "metadata": {
        "id": "e_CRylRNOQzT",
        "colab": {
          "base_uri": "https://localhost:8080/"
        },
        "outputId": "a9e1dac0-fa80-4d27-f0db-eb56a53559da"
      },
      "outputs": [
        {
          "output_type": "execute_result",
          "data": {
            "text/plain": [
              "['Suburb',\n",
              " 'Address',\n",
              " 'Rooms',\n",
              " 'Type',\n",
              " 'Price',\n",
              " 'Method',\n",
              " 'SellerG',\n",
              " 'Date',\n",
              " 'Distance',\n",
              " 'Postcode',\n",
              " 'Bedroom2',\n",
              " 'Bathroom',\n",
              " 'Car',\n",
              " 'Landsize',\n",
              " 'BuildingArea',\n",
              " 'YearBuilt',\n",
              " 'CouncilArea',\n",
              " 'Lattitude',\n",
              " 'Longtitude',\n",
              " 'Regionname',\n",
              " 'Propertycount',\n",
              " 'zipcode',\n",
              " 'airbnb_price_mean',\n",
              " 'airbnb_price_median',\n",
              " 'airbnb_price_min',\n",
              " 'airbnb_price_max',\n",
              " 'airbnb_weekly_price_mean',\n",
              " 'airbnb_monthly_price_mean',\n",
              " 'airbnb_security_deposit_mean',\n",
              " 'airbnb_review_scores_rating_mean',\n",
              " 'airbnb_review_scores_location_mean']"
            ]
          },
          "metadata": {},
          "execution_count": 9
        }
      ],
      "source": [
        "melb_df_columns=melb_df.columns.to_list()\n",
        "melb_df_columns"
      ]
    },
    {
      "cell_type": "markdown",
      "source": [
        "Se genera una lista excluyendo el nombre de las columnas indicadas en el punto 1: BuildingArea y YearBuilt"
      ],
      "metadata": {
        "id": "cvgx4yLLtM0q"
      }
    },
    {
      "cell_type": "code",
      "execution_count": 10,
      "metadata": {
        "id": "_R_E4KNvOdXx"
      },
      "outputs": [],
      "source": [
        "feature_cols=[]\n",
        "for col in melb_df_columns:\n",
        "  if col == 'BuildingArea' or col == 'YearBuilt':\n",
        "    continue\n",
        "  else:\n",
        "    feature_cols.append(col)\n",
        "#print(feature_cols)"
      ]
    },
    {
      "cell_type": "markdown",
      "source": [
        "En esta línea se convierten las columnas elegidas en un diccionario como paso previo a aplicar Dictverctorizer para lograr el encodign de las variables categóricas"
      ],
      "metadata": {
        "id": "4YpL7DHEtQp5"
      }
    },
    {
      "cell_type": "code",
      "execution_count": 11,
      "metadata": {
        "id": "uDcUHPhtOzpc"
      },
      "outputs": [],
      "source": [
        "feature_dict = list(melb_df[feature_cols].T.to_dict().values())\n",
        "feature_dict[:2]"
      ]
    },
    {
      "cell_type": "markdown",
      "source": [
        "Se importa el Dictyvectorizer de scikit-learn y se pasa el diccionario creado previamente como parámetro de la función de entrenamiento y transformación"
      ],
      "metadata": {
        "id": "_zh3znZytWTF"
      }
    },
    {
      "cell_type": "code",
      "execution_count": 12,
      "metadata": {
        "id": "GNtvGEijPJLA"
      },
      "outputs": [],
      "source": [
        "from sklearn.feature_extraction import DictVectorizer\n",
        "vec = DictVectorizer()\n",
        "feature_matrix = vec.fit_transform(feature_dict)"
      ]
    },
    {
      "cell_type": "markdown",
      "source": [
        "A la matriz esparsa generada por Dictvectorizer, se le rellenan los valores nan para que luego pueda ser utilizada en los ejericios que vienen a continuación"
      ],
      "metadata": {
        "id": "umg9vw9otYrh"
      }
    },
    {
      "cell_type": "code",
      "execution_count": 13,
      "metadata": {
        "id": "Ru3dK1HsPnKp"
      },
      "outputs": [],
      "source": [
        "if numpy.any(numpy.isnan(feature_matrix.data)):\n",
        "  feature_matrix.data = numpy.nan_to_num(feature_matrix.data)"
      ]
    },
    {
      "cell_type": "markdown",
      "source": [
        "Además de rellenar los valores nan, a la matriz esparse de la convierte en densa con el mismo objetivo de poder ser utilizada en los pasos siguientes"
      ],
      "metadata": {
        "id": "UP27qoCntdc7"
      }
    },
    {
      "cell_type": "code",
      "execution_count": 14,
      "metadata": {
        "id": "GGQ8sCgGQEtm"
      },
      "outputs": [],
      "source": [
        "precision_type = numpy.float32\n",
        "dense_feature_matrix = feature_matrix.astype(precision_type).todense()"
      ]
    },
    {
      "cell_type": "markdown",
      "metadata": {
        "id": "ismngxPcfoWb"
      },
      "source": [
        "## Ejercicio 2: Imputación por KNN\n",
        "\n",
        "En el teórico se presentó el método `IterativeImputer` para imputar valores faltantes en variables numéricas. Sin embargo, los ejemplos presentados sólo utilizaban algunas variables numéricas presentes en el conjunto de datos. En este ejercicio, utilizaremos la matriz de datos codificada para imputar datos faltantes de manera más precisa.\n",
        "\n",
        "1. Agregue a la matriz obtenida en el punto anterior las columnas `YearBuilt` y `BuildingArea`.\n",
        "2. Aplique una instancia de `IterativeImputer` con un estimador `KNeighborsRegressor` para imputar los valores de las variables. ¿Es necesario estandarizar o escalar los datos previamente?\n",
        "3. Realice un gráfico mostrando la distribución de cada variable antes de ser imputada, y con ambos métodos de imputación."
      ]
    },
    {
      "cell_type": "markdown",
      "source": [
        "### Solución\n",
        "A la matriz densa obtenida al final del ejercicio anterior, se la convierte en un DataFrame para poder adicionarle las columnas requeridas en este apartado: YearBuilt y BuildingArea"
      ],
      "metadata": {
        "id": "3p4ieOMvtgWV"
      }
    },
    {
      "cell_type": "code",
      "execution_count": 15,
      "metadata": {
        "id": "R_uRO5wHQQm7",
        "colab": {
          "base_uri": "https://localhost:8080/",
          "height": 272
        },
        "outputId": "af6f77d0-749a-420e-ab76-fa37d9caa616"
      },
      "outputs": [
        {
          "output_type": "execute_result",
          "data": {
            "text/plain": [
              "   Address=1 Adelle Ct  Address=1 Airlie St  Address=1 Albion Ct  \\\n",
              "0                  0.0                  0.0                  0.0   \n",
              "1                  0.0                  0.0                  0.0   \n",
              "2                  0.0                  0.0                  0.0   \n",
              "\n",
              "   Address=1 Alexander St  Address=1 Alma St  Address=1 Ann St  \\\n",
              "0                     0.0                0.0               0.0   \n",
              "1                     0.0                0.0               0.0   \n",
              "2                     0.0                0.0               0.0   \n",
              "\n",
              "   Address=1 Arthur St  Address=1 Ash Gr  Address=1 Ashdown Ct  \\\n",
              "0                  0.0               0.0                   0.0   \n",
              "1                  0.0               0.0                   0.0   \n",
              "2                  0.0               0.0                   0.0   \n",
              "\n",
              "   Address=1 Aspen St  ...  airbnb_monthly_price_mean  airbnb_price_max  \\\n",
              "0                 0.0  ...                2187.032227             900.0   \n",
              "1                 0.0  ...                2187.032227             900.0   \n",
              "2                 0.0  ...                2187.032227             900.0   \n",
              "\n",
              "   airbnb_price_mean  airbnb_price_median  airbnb_price_min  \\\n",
              "0         130.624023                100.0              28.0   \n",
              "1         130.624023                100.0              28.0   \n",
              "2         130.624023                100.0              28.0   \n",
              "\n",
              "   airbnb_review_scores_location_mean  airbnb_review_scores_rating_mean  \\\n",
              "0                            9.697115                          95.28846   \n",
              "1                            9.697115                          95.28846   \n",
              "2                            9.697115                          95.28846   \n",
              "\n",
              "   airbnb_security_deposit_mean  airbnb_weekly_price_mean  zipcode  \n",
              "0                    238.141022                605.152161   3067.0  \n",
              "1                    238.141022                605.152161   3067.0  \n",
              "2                    238.141022                605.152161   3067.0  \n",
              "\n",
              "[3 rows x 12741 columns]"
            ],
            "text/html": [
              "\n",
              "  <div id=\"df-98584639-1823-4e06-9862-0dd806613f02\">\n",
              "    <div class=\"colab-df-container\">\n",
              "      <div>\n",
              "<style scoped>\n",
              "    .dataframe tbody tr th:only-of-type {\n",
              "        vertical-align: middle;\n",
              "    }\n",
              "\n",
              "    .dataframe tbody tr th {\n",
              "        vertical-align: top;\n",
              "    }\n",
              "\n",
              "    .dataframe thead th {\n",
              "        text-align: right;\n",
              "    }\n",
              "</style>\n",
              "<table border=\"1\" class=\"dataframe\">\n",
              "  <thead>\n",
              "    <tr style=\"text-align: right;\">\n",
              "      <th></th>\n",
              "      <th>Address=1 Adelle Ct</th>\n",
              "      <th>Address=1 Airlie St</th>\n",
              "      <th>Address=1 Albion Ct</th>\n",
              "      <th>Address=1 Alexander St</th>\n",
              "      <th>Address=1 Alma St</th>\n",
              "      <th>Address=1 Ann St</th>\n",
              "      <th>Address=1 Arthur St</th>\n",
              "      <th>Address=1 Ash Gr</th>\n",
              "      <th>Address=1 Ashdown Ct</th>\n",
              "      <th>Address=1 Aspen St</th>\n",
              "      <th>...</th>\n",
              "      <th>airbnb_monthly_price_mean</th>\n",
              "      <th>airbnb_price_max</th>\n",
              "      <th>airbnb_price_mean</th>\n",
              "      <th>airbnb_price_median</th>\n",
              "      <th>airbnb_price_min</th>\n",
              "      <th>airbnb_review_scores_location_mean</th>\n",
              "      <th>airbnb_review_scores_rating_mean</th>\n",
              "      <th>airbnb_security_deposit_mean</th>\n",
              "      <th>airbnb_weekly_price_mean</th>\n",
              "      <th>zipcode</th>\n",
              "    </tr>\n",
              "  </thead>\n",
              "  <tbody>\n",
              "    <tr>\n",
              "      <th>0</th>\n",
              "      <td>0.0</td>\n",
              "      <td>0.0</td>\n",
              "      <td>0.0</td>\n",
              "      <td>0.0</td>\n",
              "      <td>0.0</td>\n",
              "      <td>0.0</td>\n",
              "      <td>0.0</td>\n",
              "      <td>0.0</td>\n",
              "      <td>0.0</td>\n",
              "      <td>0.0</td>\n",
              "      <td>...</td>\n",
              "      <td>2187.032227</td>\n",
              "      <td>900.0</td>\n",
              "      <td>130.624023</td>\n",
              "      <td>100.0</td>\n",
              "      <td>28.0</td>\n",
              "      <td>9.697115</td>\n",
              "      <td>95.28846</td>\n",
              "      <td>238.141022</td>\n",
              "      <td>605.152161</td>\n",
              "      <td>3067.0</td>\n",
              "    </tr>\n",
              "    <tr>\n",
              "      <th>1</th>\n",
              "      <td>0.0</td>\n",
              "      <td>0.0</td>\n",
              "      <td>0.0</td>\n",
              "      <td>0.0</td>\n",
              "      <td>0.0</td>\n",
              "      <td>0.0</td>\n",
              "      <td>0.0</td>\n",
              "      <td>0.0</td>\n",
              "      <td>0.0</td>\n",
              "      <td>0.0</td>\n",
              "      <td>...</td>\n",
              "      <td>2187.032227</td>\n",
              "      <td>900.0</td>\n",
              "      <td>130.624023</td>\n",
              "      <td>100.0</td>\n",
              "      <td>28.0</td>\n",
              "      <td>9.697115</td>\n",
              "      <td>95.28846</td>\n",
              "      <td>238.141022</td>\n",
              "      <td>605.152161</td>\n",
              "      <td>3067.0</td>\n",
              "    </tr>\n",
              "    <tr>\n",
              "      <th>2</th>\n",
              "      <td>0.0</td>\n",
              "      <td>0.0</td>\n",
              "      <td>0.0</td>\n",
              "      <td>0.0</td>\n",
              "      <td>0.0</td>\n",
              "      <td>0.0</td>\n",
              "      <td>0.0</td>\n",
              "      <td>0.0</td>\n",
              "      <td>0.0</td>\n",
              "      <td>0.0</td>\n",
              "      <td>...</td>\n",
              "      <td>2187.032227</td>\n",
              "      <td>900.0</td>\n",
              "      <td>130.624023</td>\n",
              "      <td>100.0</td>\n",
              "      <td>28.0</td>\n",
              "      <td>9.697115</td>\n",
              "      <td>95.28846</td>\n",
              "      <td>238.141022</td>\n",
              "      <td>605.152161</td>\n",
              "      <td>3067.0</td>\n",
              "    </tr>\n",
              "  </tbody>\n",
              "</table>\n",
              "<p>3 rows × 12741 columns</p>\n",
              "</div>\n",
              "      <button class=\"colab-df-convert\" onclick=\"convertToInteractive('df-98584639-1823-4e06-9862-0dd806613f02')\"\n",
              "              title=\"Convert this dataframe to an interactive table.\"\n",
              "              style=\"display:none;\">\n",
              "        \n",
              "  <svg xmlns=\"http://www.w3.org/2000/svg\" height=\"24px\"viewBox=\"0 0 24 24\"\n",
              "       width=\"24px\">\n",
              "    <path d=\"M0 0h24v24H0V0z\" fill=\"none\"/>\n",
              "    <path d=\"M18.56 5.44l.94 2.06.94-2.06 2.06-.94-2.06-.94-.94-2.06-.94 2.06-2.06.94zm-11 1L8.5 8.5l.94-2.06 2.06-.94-2.06-.94L8.5 2.5l-.94 2.06-2.06.94zm10 10l.94 2.06.94-2.06 2.06-.94-2.06-.94-.94-2.06-.94 2.06-2.06.94z\"/><path d=\"M17.41 7.96l-1.37-1.37c-.4-.4-.92-.59-1.43-.59-.52 0-1.04.2-1.43.59L10.3 9.45l-7.72 7.72c-.78.78-.78 2.05 0 2.83L4 21.41c.39.39.9.59 1.41.59.51 0 1.02-.2 1.41-.59l7.78-7.78 2.81-2.81c.8-.78.8-2.07 0-2.86zM5.41 20L4 18.59l7.72-7.72 1.47 1.35L5.41 20z\"/>\n",
              "  </svg>\n",
              "      </button>\n",
              "      \n",
              "  <style>\n",
              "    .colab-df-container {\n",
              "      display:flex;\n",
              "      flex-wrap:wrap;\n",
              "      gap: 12px;\n",
              "    }\n",
              "\n",
              "    .colab-df-convert {\n",
              "      background-color: #E8F0FE;\n",
              "      border: none;\n",
              "      border-radius: 50%;\n",
              "      cursor: pointer;\n",
              "      display: none;\n",
              "      fill: #1967D2;\n",
              "      height: 32px;\n",
              "      padding: 0 0 0 0;\n",
              "      width: 32px;\n",
              "    }\n",
              "\n",
              "    .colab-df-convert:hover {\n",
              "      background-color: #E2EBFA;\n",
              "      box-shadow: 0px 1px 2px rgba(60, 64, 67, 0.3), 0px 1px 3px 1px rgba(60, 64, 67, 0.15);\n",
              "      fill: #174EA6;\n",
              "    }\n",
              "\n",
              "    [theme=dark] .colab-df-convert {\n",
              "      background-color: #3B4455;\n",
              "      fill: #D2E3FC;\n",
              "    }\n",
              "\n",
              "    [theme=dark] .colab-df-convert:hover {\n",
              "      background-color: #434B5C;\n",
              "      box-shadow: 0px 1px 3px 1px rgba(0, 0, 0, 0.15);\n",
              "      filter: drop-shadow(0px 1px 2px rgba(0, 0, 0, 0.3));\n",
              "      fill: #FFFFFF;\n",
              "    }\n",
              "  </style>\n",
              "\n",
              "      <script>\n",
              "        const buttonEl =\n",
              "          document.querySelector('#df-98584639-1823-4e06-9862-0dd806613f02 button.colab-df-convert');\n",
              "        buttonEl.style.display =\n",
              "          google.colab.kernel.accessAllowed ? 'block' : 'none';\n",
              "\n",
              "        async function convertToInteractive(key) {\n",
              "          const element = document.querySelector('#df-98584639-1823-4e06-9862-0dd806613f02');\n",
              "          const dataTable =\n",
              "            await google.colab.kernel.invokeFunction('convertToInteractive',\n",
              "                                                     [key], {});\n",
              "          if (!dataTable) return;\n",
              "\n",
              "          const docLinkHtml = 'Like what you see? Visit the ' +\n",
              "            '<a target=\"_blank\" href=https://colab.research.google.com/notebooks/data_table.ipynb>data table notebook</a>'\n",
              "            + ' to learn more about interactive tables.';\n",
              "          element.innerHTML = '';\n",
              "          dataTable['output_type'] = 'display_data';\n",
              "          await google.colab.output.renderOutput(dataTable, element);\n",
              "          const docLink = document.createElement('div');\n",
              "          docLink.innerHTML = docLinkHtml;\n",
              "          element.appendChild(docLink);\n",
              "        }\n",
              "      </script>\n",
              "    </div>\n",
              "  </div>\n",
              "  "
            ]
          },
          "metadata": {},
          "execution_count": 15
        }
      ],
      "source": [
        "melb_df_encoded2 = pandas.DataFrame(dense_feature_matrix)\n",
        "melb_df_encoded2.columns = vec.get_feature_names_out()\n",
        "melb_df_encoded2[:3]"
      ]
    },
    {
      "cell_type": "markdown",
      "source": [
        "Al DataFrame generado se le adicionan las columnas"
      ],
      "metadata": {
        "id": "QTjy0TTMtpIT"
      }
    },
    {
      "cell_type": "code",
      "execution_count": 16,
      "metadata": {
        "id": "cXFbgI-FQgTQ"
      },
      "outputs": [],
      "source": [
        "melb_df_encoded2['YearBuilt'] = melb_df['YearBuilt']\n",
        "melb_df_encoded2['BuildingArea'] = melb_df['BuildingArea']"
      ]
    },
    {
      "cell_type": "markdown",
      "source": [
        "En esta líenas se procede a la imputación de los valores de las dos columnas adicionadas"
      ],
      "metadata": {
        "id": "zGk77aBwtrpz"
      }
    },
    {
      "cell_type": "code",
      "execution_count": 17,
      "metadata": {
        "colab": {
          "base_uri": "https://localhost:8080/"
        },
        "id": "G4ClSr_JapCw",
        "outputId": "cd0171ae-0722-4df0-e90b-5e9c04399c5a"
      },
      "outputs": [
        {
          "output_type": "stream",
          "name": "stderr",
          "text": [
            "/usr/local/lib/python3.7/dist-packages/sklearn/impute/_iterative.py:701: ConvergenceWarning: [IterativeImputer] Early stopping criterion not reached.\n",
            "  ConvergenceWarning,\n"
          ]
        }
      ],
      "source": [
        "from sklearn.experimental import enable_iterative_imputer\n",
        "from sklearn.neighbors import KNeighborsRegressor\n",
        "from sklearn.impute import IterativeImputer\n",
        "\n",
        "melb_data_mice = melb_df_encoded2.copy(deep=True)\n",
        "\n",
        "mice_imputer = IterativeImputer(random_state=0, estimator=KNeighborsRegressor())\n",
        "melb_data_mice[['YearBuilt','BuildingArea']] = mice_imputer.fit_transform(\n",
        "    melb_data_mice[['YearBuilt', 'BuildingArea']])"
      ]
    },
    {
      "cell_type": "markdown",
      "source": [
        "Se grafican las diferencias antes y luego de la imputación"
      ],
      "metadata": {
        "id": "B3_SsYqEttsW"
      }
    },
    {
      "cell_type": "code",
      "execution_count": 18,
      "metadata": {
        "colab": {
          "base_uri": "https://localhost:8080/",
          "height": 355
        },
        "id": "PMK1ktqYQTJK",
        "outputId": "eea46b6f-cb7f-4c38-93d1-943e276d11a0"
      },
      "outputs": [
        {
          "output_type": "display_data",
          "data": {
            "text/plain": [
              "<Figure size 576x360 with 1 Axes>"
            ],
            "image/png": "[encoded data removed]"
          },
          "metadata": {
            "needs_background": "light"
          }
        }
      ],
      "source": [
        "mice_year_built = melb_data_mice.YearBuilt.to_frame()\n",
        "mice_year_built['Imputation'] = 'KNN over YearBuilt and BuildingArea'\n",
        "melb_year_build = melb_df.YearBuilt.dropna().to_frame()\n",
        "melb_year_build['Imputation'] = 'Original'\n",
        "data = pandas.concat([mice_year_built, melb_year_build]).reset_index()\n",
        "fig = plt.figure(figsize=(8, 5))\n",
        "g = seaborn.kdeplot(data=data, x='YearBuilt', hue='Imputation')"
      ]
    },
    {
      "cell_type": "markdown",
      "metadata": {
        "id": "NBN7-5OIxjJW"
      },
      "source": [
        "## Ejercicio 3: Reducción de dimensionalidad.\n",
        "\n",
        "Utilizando la matriz obtenida en el ejercicio anterior:\n",
        "1. Aplique `PCA` para obtener $n$ componentes principales de la matriz, donde `n = min(20, X.shape[0])`. ¿Es necesario estandarizar o escalar los datos?\n",
        "2. Grafique la varianza capturada por los primeros $n$ componentes principales, para cada $n$.\n",
        "3. En base al gráfico, seleccione las primeras $m$ columnas de la matriz transformada para agregar como nuevas características al conjunto de datos."
      ]
    },
    {
      "cell_type": "markdown",
      "source": [
        "### Solución\n",
        "Previo a aplicar PCA se escalan los datos"
      ],
      "metadata": {
        "id": "gSg0KP0EtwCH"
      }
    },
    {
      "cell_type": "code",
      "execution_count": 19,
      "metadata": {
        "colab": {
          "base_uri": "https://localhost:8080/"
        },
        "id": "b1k-LaayRA63",
        "outputId": "294554db-0fc3-4530-f16d-654feb110aee"
      },
      "outputs": [
        {
          "output_type": "execute_result",
          "data": {
            "text/plain": [
              "(1.0000000000000009, -1.0)"
            ]
          },
          "metadata": {},
          "execution_count": 19
        }
      ],
      "source": [
        "from sklearn.preprocessing import MinMaxScaler\n",
        "scaler = MinMaxScaler(feature_range=(-1, 1))\n",
        "scaled_dense_feature_matrix = scaler.fit_transform(melb_data_mice)\n",
        "numpy.max(scaled_dense_feature_matrix), numpy.min(scaled_dense_feature_matrix)"
      ]
    },
    {
      "cell_type": "markdown",
      "source": [
        "Se instancia la clase PCA y se le pasa como parámetro los n componentes principales que se desean obtener"
      ],
      "metadata": {
        "id": "92WGYRZPt1Aw"
      }
    },
    {
      "cell_type": "code",
      "execution_count": 20,
      "metadata": {
        "colab": {
          "base_uri": "https://localhost:8080/"
        },
        "id": "rY60NB30RGUi",
        "outputId": "92c99fab-526f-4795-a797-64930314b945"
      },
      "outputs": [
        {
          "output_type": "execute_result",
          "data": {
            "text/plain": [
              "(12214, 20)"
            ]
          },
          "metadata": {},
          "execution_count": 20
        }
      ],
      "source": [
        "from sklearn.decomposition import PCA\n",
        "n = min(20, scaled_dense_feature_matrix.shape[0])\n",
        "n= n\n",
        "pca = PCA(n_components=n)\n",
        "pca.fit(scaled_dense_feature_matrix)\n",
        "proyected_features = pca.transform(scaled_dense_feature_matrix)\n",
        "proyected_features.shape"
      ]
    },
    {
      "cell_type": "code",
      "execution_count": 21,
      "metadata": {
        "colab": {
          "base_uri": "https://localhost:8080/"
        },
        "id": "fq_SJdGERWEE",
        "outputId": "f5892d51-f587-4786-9b7c-4db0b10164c4"
      },
      "outputs": [
        {
          "output_type": "stream",
          "name": "stdout",
          "text": [
            "Principal components\n",
            "[[-8.44160349e-05 -5.41550054e-05 -7.96607527e-05 ...  3.98680222e-01\n",
            "  -2.23234481e-03 -2.87511385e-04]\n",
            " [-2.20713424e-07  1.30078320e-04 -2.76705854e-05 ... -1.17447236e-01\n",
            "   7.72313057e-03 -3.49936840e-05]\n",
            " [-2.89789749e-05 -1.03743895e-05 -1.34338344e-04 ... -1.00047484e-01\n",
            "   9.34785718e-03 -3.94340469e-04]\n",
            " ...\n",
            " [-2.01208237e-04 -2.73772691e-04 -3.03178886e-05 ...  8.10330183e-02\n",
            "   1.49655928e-02  3.04766481e-04]\n",
            " [ 3.50802676e-04 -3.52973426e-05 -5.35374914e-05 ...  5.37172804e-03\n",
            "   9.95480132e-04  8.33936239e-05]\n",
            " [-6.84671434e-05  8.21885016e-05  2.41387721e-05 ...  2.01805215e-04\n",
            "   3.31488396e-03 -2.04388033e-04]]\n",
            "Explained variance ratio\n",
            "[0.12205309 0.05636337 0.04403812 0.04044075 0.03671834 0.02355849\n",
            " 0.01675807 0.01571    0.01519415 0.0143707  0.01318277 0.01151465\n",
            " 0.01067211 0.01039986 0.01003035 0.0091241  0.00894027 0.00859214\n",
            " 0.00748203 0.00716774]\n"
          ]
        }
      ],
      "source": [
        "print(\"Principal components\")\n",
        "print(pca.components_)\n",
        "print(\"Explained variance ratio\")\n",
        "print(pca.explained_variance_ratio_)"
      ]
    },
    {
      "cell_type": "markdown",
      "source": [
        "Se grafica la varianza de cada PC mediante un Scree Plot"
      ],
      "metadata": {
        "id": "2gvVrw-0t4pI"
      }
    },
    {
      "cell_type": "code",
      "execution_count": 22,
      "metadata": {
        "colab": {
          "base_uri": "https://localhost:8080/",
          "height": 321
        },
        "id": "4m4p_GepRWin",
        "outputId": "54872a39-3738-4f7e-8b28-f69ae61a190e"
      },
      "outputs": [
        {
          "output_type": "display_data",
          "data": {
            "text/plain": [
              "<Figure size 432x288 with 1 Axes>"
            ],
            "image/png": "[encoded data removed]"
          },
          "metadata": {
            "needs_background": "light"
          }
        }
      ],
      "source": [
        "PC_values = numpy.arange(pca.n_components_) + 1\n",
        "plt.plot(PC_values, pca.explained_variance_ratio_, 'o-', linewidth=2, color='blue')\n",
        "plt.title('Scree Plot')\n",
        "plt.xlabel('Principal Component')\n",
        "plt.ylabel('Variance Explained')\n",
        "plt.show()"
      ]
    },
    {
      "cell_type": "markdown",
      "source": [
        "Con los componentes principales obtenidos se crea un DataFrame como paso previo para luego concatenarlos con el DataFrame importado en el ejercicio 1"
      ],
      "metadata": {
        "id": "aVPDgTsVt7bC"
      }
    },
    {
      "cell_type": "code",
      "execution_count": 23,
      "metadata": {
        "colab": {
          "base_uri": "https://localhost:8080/"
        },
        "id": "WogSezvRRdSp",
        "outputId": "a3a27b12-3292-4c64-be29-8a6e35f2e511"
      },
      "outputs": [
        {
          "output_type": "stream",
          "name": "stdout",
          "text": [
            "           PC 1      PC 2      PC 3      PC 4      PC 5      PC 6      PC 7  \\\n",
            "0      1.954588 -2.029271  0.255002 -1.042214 -0.128425  0.032759 -0.194643   \n",
            "1      1.948879 -2.057128  0.311732 -0.946162 -0.036869  0.066905 -0.276339   \n",
            "2      2.005184 -1.977651 -0.081125  0.843412 -1.676753  0.108199 -0.899176   \n",
            "3      2.009040 -1.876827  0.015602  0.649403 -1.684318  0.134785  0.241552   \n",
            "4      1.961022 -2.179393  0.091330  0.513356 -1.534139 -0.275079  1.445049   \n",
            "...         ...       ...       ...       ...       ...       ...       ...   \n",
            "12209 -1.604641 -1.015423  0.892885 -0.636486  0.057944 -0.176175 -0.393869   \n",
            "12210  1.438933 -0.851523 -0.918256 -1.139822  0.153214  0.985163 -0.488496   \n",
            "12211  1.850916 -1.087941 -2.342715  1.429850 -0.585371  0.081519 -1.013347   \n",
            "12212  1.766086 -1.155350 -1.997384 -0.487925  0.911427 -0.014143 -0.256324   \n",
            "12213 -1.730564 -0.202271 -1.648746  1.669473 -0.596512 -0.347998 -1.021222   \n",
            "\n",
            "           PC 8      PC 9     PC 10     PC 11     PC 12     PC 13     PC 14  \\\n",
            "0      0.158248 -0.030788  0.239556  0.011450  0.321273 -0.667290  0.635126   \n",
            "1      0.156582  0.017600  0.215890 -0.027596  0.356078 -0.662024  0.679412   \n",
            "2      0.381383 -0.985181  0.049667  0.315905 -0.046678 -0.876148  0.339932   \n",
            "3     -0.065667  1.367126  0.266033 -0.426920 -0.024531 -1.020243  0.778871   \n",
            "4     -0.542446 -0.590361 -0.717411  0.506109  1.564432  0.082736  0.696823   \n",
            "...         ...       ...       ...       ...       ...       ...       ...   \n",
            "12209  0.024373  0.026879  0.107265 -0.305447  0.147383  0.024161  0.299007   \n",
            "12210  0.077938  0.358194 -0.075176  0.164737 -0.617987  0.967312  0.222452   \n",
            "12211  0.344278 -0.796710 -0.034253  0.263852 -0.353809 -0.156592 -0.109248   \n",
            "12212  0.134656  0.139296  0.161812 -0.054293  0.059377  0.019629  0.157918   \n",
            "12213  0.211727 -0.866215  0.193410  0.155652 -0.093369 -0.326760 -0.015256   \n",
            "\n",
            "          PC 15     PC 16     PC 17     PC 18     PC 19     PC 20  \n",
            "0      0.568334 -0.829453  1.472405  0.041319 -0.182328  0.413664  \n",
            "1      0.582437 -0.792101  1.423024  0.125187 -0.157954  0.462065  \n",
            "2      0.638676 -0.780954  1.544050  0.078859 -0.188887  0.517311  \n",
            "3      0.487495 -0.773982  1.454468  0.132364 -0.175644  0.485452  \n",
            "4      0.479392 -0.623090  0.783103  0.442599  0.455394  0.301741  \n",
            "...         ...       ...       ...       ...       ...       ...  \n",
            "12209  0.100806 -0.104168  0.400853  0.028577 -0.048698  0.025145  \n",
            "12210  0.543776  0.595453  0.304510  1.072860  1.202405  0.088487  \n",
            "12211 -0.145978  0.150270 -0.131125  0.149764 -0.180401 -0.075652  \n",
            "12212 -0.158513  0.146551 -0.167988  0.095817 -0.173348 -0.187518  \n",
            "12213 -0.278648 -0.198339  0.108985 -0.349631  0.084714  0.018718  \n",
            "\n",
            "[12214 rows x 20 columns]\n"
          ]
        }
      ],
      "source": [
        "pca_df = pandas.DataFrame(data = proyected_features, columns = ['PC 1', 'PC 2', 'PC 3', 'PC 4', 'PC 5', 'PC 6',\n",
        "                                                              'PC 7','PC 8','PC 9','PC 10','PC 11','PC 12',\n",
        "                                                            'PC 13','PC 14','PC 15','PC 16','PC 17','PC 18',\n",
        "                                                            'PC 19','PC 20',])\n",
        "print(pca_df)"
      ]
    },
    {
      "cell_type": "markdown",
      "metadata": {
        "id": "WrZTYmG_ZyDy"
      },
      "source": [
        "## Ejercicio 4: Composición del resultado\n",
        "\n",
        "Transformar nuevamente el conjunto de datos procesado en un `pandas.DataFrame` y guardarlo en un archivo.\n",
        "\n",
        "Para eso, será necesario recordar el nombre original de cada columna de la matriz, en el orden correcto. Tener en cuenta:\n",
        "1. El método `OneHotEncoder.get_feature_names` o el atributo `OneHotEncoder.categories_` permiten obtener una lista con los valores de la categoría que le corresponde a cada índice de la matriz.\n",
        "2. Ninguno de los métodos aplicados intercambia de lugar las columnas o las filas de la matriz."
      ]
    },
    {
      "cell_type": "markdown",
      "metadata": {
        "id": "QqKeh3s8R6IA"
      },
      "source": [
        "En base a lo que se puede observar en el Scree Plot del ejercicio anterior, podría afirmarse que los 6 primeros componentes principales son los responsables del mayor porcentaje de varianza en los datos. En base a ello, se optó por adicionarlos como nuevas columans al DataFrame importado en el ejercicio 1"
      ]
    },
    {
      "cell_type": "markdown",
      "source": [
        "### Solución\n",
        "Se concatenan los 5 primeros PC con el dataframe"
      ],
      "metadata": {
        "id": "VS596iN3t_0U"
      }
    },
    {
      "cell_type": "code",
      "execution_count": 24,
      "metadata": {
        "colab": {
          "base_uri": "https://localhost:8080/",
          "height": 334
        },
        "id": "iN9R7PTHR3px",
        "outputId": "302a7a59-234f-4f82-ccfd-9f83578332c7"
      },
      "outputs": [
        {
          "output_type": "execute_result",
          "data": {
            "text/plain": [
              "   Address=1 Adelle Ct  Address=1 Airlie St  Address=1 Albion Ct  \\\n",
              "0                  0.0                  0.0                  0.0   \n",
              "1                  0.0                  0.0                  0.0   \n",
              "2                  0.0                  0.0                  0.0   \n",
              "3                  0.0                  0.0                  0.0   \n",
              "4                  0.0                  0.0                  0.0   \n",
              "\n",
              "   Address=1 Alexander St  Address=1 Alma St  Address=1 Ann St  \\\n",
              "0                     0.0                0.0               0.0   \n",
              "1                     0.0                0.0               0.0   \n",
              "2                     0.0                0.0               0.0   \n",
              "3                     0.0                0.0               0.0   \n",
              "4                     0.0                0.0               0.0   \n",
              "\n",
              "   Address=1 Arthur St  Address=1 Ash Gr  Address=1 Ashdown Ct  \\\n",
              "0                  0.0               0.0                   0.0   \n",
              "1                  0.0               0.0                   0.0   \n",
              "2                  0.0               0.0                   0.0   \n",
              "3                  0.0               0.0                   0.0   \n",
              "4                  0.0               0.0                   0.0   \n",
              "\n",
              "   Address=1 Aspen St  ...  airbnb_weekly_price_mean  zipcode  YearBuilt  \\\n",
              "0                 0.0  ...                605.152161   3067.0     1955.0   \n",
              "1                 0.0  ...                605.152161   3067.0     1900.0   \n",
              "2                 0.0  ...                605.152161   3067.0     1900.0   \n",
              "3                 0.0  ...                605.152161   3067.0     1955.0   \n",
              "4                 0.0  ...                605.152161   3067.0     2014.0   \n",
              "\n",
              "   BuildingArea      PC 1      PC 2      PC 3      PC 4      PC 5      PC 6  \n",
              "0         121.4  1.954588 -2.029271  0.255002 -1.042214 -0.128425  0.032759  \n",
              "1          79.0  1.948879 -2.057128  0.311732 -0.946162 -0.036869  0.066905  \n",
              "2         150.0  2.005184 -1.977651 -0.081125  0.843412 -1.676753  0.108199  \n",
              "3         121.4  2.009040 -1.876827  0.015602  0.649403 -1.684318  0.134785  \n",
              "4         142.0  1.961022 -2.179393  0.091330  0.513356 -1.534139 -0.275079  \n",
              "\n",
              "[5 rows x 12749 columns]"
            ],
            "text/html": [
              "\n",
              "  <div id=\"df-f1f3e438-f0b6-486f-b808-ec9c648e4ebc\">\n",
              "    <div class=\"colab-df-container\">\n",
              "      <div>\n",
              "<style scoped>\n",
              "    .dataframe tbody tr th:only-of-type {\n",
              "        vertical-align: middle;\n",
              "    }\n",
              "\n",
              "    .dataframe tbody tr th {\n",
              "        vertical-align: top;\n",
              "    }\n",
              "\n",
              "    .dataframe thead th {\n",
              "        text-align: right;\n",
              "    }\n",
              "</style>\n",
              "<table border=\"1\" class=\"dataframe\">\n",
              "  <thead>\n",
              "    <tr style=\"text-align: right;\">\n",
              "      <th></th>\n",
              "      <th>Address=1 Adelle Ct</th>\n",
              "      <th>Address=1 Airlie St</th>\n",
              "      <th>Address=1 Albion Ct</th>\n",
              "      <th>Address=1 Alexander St</th>\n",
              "      <th>Address=1 Alma St</th>\n",
              "      <th>Address=1 Ann St</th>\n",
              "      <th>Address=1 Arthur St</th>\n",
              "      <th>Address=1 Ash Gr</th>\n",
              "      <th>Address=1 Ashdown Ct</th>\n",
              "      <th>Address=1 Aspen St</th>\n",
              "      <th>...</th>\n",
              "      <th>airbnb_weekly_price_mean</th>\n",
              "      <th>zipcode</th>\n",
              "      <th>YearBuilt</th>\n",
              "      <th>BuildingArea</th>\n",
              "      <th>PC 1</th>\n",
              "      <th>PC 2</th>\n",
              "      <th>PC 3</th>\n",
              "      <th>PC 4</th>\n",
              "      <th>PC 5</th>\n",
              "      <th>PC 6</th>\n",
              "    </tr>\n",
              "  </thead>\n",
              "  <tbody>\n",
              "    <tr>\n",
              "      <th>0</th>\n",
              "      <td>0.0</td>\n",
              "      <td>0.0</td>\n",
              "      <td>0.0</td>\n",
              "      <td>0.0</td>\n",
              "      <td>0.0</td>\n",
              "      <td>0.0</td>\n",
              "      <td>0.0</td>\n",
              "      <td>0.0</td>\n",
              "      <td>0.0</td>\n",
              "      <td>0.0</td>\n",
              "      <td>...</td>\n",
              "      <td>605.152161</td>\n",
              "      <td>3067.0</td>\n",
              "      <td>1955.0</td>\n",
              "      <td>121.4</td>\n",
              "      <td>1.954588</td>\n",
              "      <td>-2.029271</td>\n",
              "      <td>0.255002</td>\n",
              "      <td>-1.042214</td>\n",
              "      <td>-0.128425</td>\n",
              "      <td>0.032759</td>\n",
              "    </tr>\n",
              "    <tr>\n",
              "      <th>1</th>\n",
              "      <td>0.0</td>\n",
              "      <td>0.0</td>\n",
              "      <td>0.0</td>\n",
              "      <td>0.0</td>\n",
              "      <td>0.0</td>\n",
              "      <td>0.0</td>\n",
              "      <td>0.0</td>\n",
              "      <td>0.0</td>\n",
              "      <td>0.0</td>\n",
              "      <td>0.0</td>\n",
              "      <td>...</td>\n",
              "      <td>605.152161</td>\n",
              "      <td>3067.0</td>\n",
              "      <td>1900.0</td>\n",
              "      <td>79.0</td>\n",
              "      <td>1.948879</td>\n",
              "      <td>-2.057128</td>\n",
              "      <td>0.311732</td>\n",
              "      <td>-0.946162</td>\n",
              "      <td>-0.036869</td>\n",
              "      <td>0.066905</td>\n",
              "    </tr>\n",
              "    <tr>\n",
              "      <th>2</th>\n",
              "      <td>0.0</td>\n",
              "      <td>0.0</td>\n",
              "      <td>0.0</td>\n",
              "      <td>0.0</td>\n",
              "      <td>0.0</td>\n",
              "      <td>0.0</td>\n",
              "      <td>0.0</td>\n",
              "      <td>0.0</td>\n",
              "      <td>0.0</td>\n",
              "      <td>0.0</td>\n",
              "      <td>...</td>\n",
              "      <td>605.152161</td>\n",
              "      <td>3067.0</td>\n",
              "      <td>1900.0</td>\n",
              "      <td>150.0</td>\n",
              "      <td>2.005184</td>\n",
              "      <td>-1.977651</td>\n",
              "      <td>-0.081125</td>\n",
              "      <td>0.843412</td>\n",
              "      <td>-1.676753</td>\n",
              "      <td>0.108199</td>\n",
              "    </tr>\n",
              "    <tr>\n",
              "      <th>3</th>\n",
              "      <td>0.0</td>\n",
              "      <td>0.0</td>\n",
              "      <td>0.0</td>\n",
              "      <td>0.0</td>\n",
              "      <td>0.0</td>\n",
              "      <td>0.0</td>\n",
              "      <td>0.0</td>\n",
              "      <td>0.0</td>\n",
              "      <td>0.0</td>\n",
              "      <td>0.0</td>\n",
              "      <td>...</td>\n",
              "      <td>605.152161</td>\n",
              "      <td>3067.0</td>\n",
              "      <td>1955.0</td>\n",
              "      <td>121.4</td>\n",
              "      <td>2.009040</td>\n",
              "      <td>-1.876827</td>\n",
              "      <td>0.015602</td>\n",
              "      <td>0.649403</td>\n",
              "      <td>-1.684318</td>\n",
              "      <td>0.134785</td>\n",
              "    </tr>\n",
              "    <tr>\n",
              "      <th>4</th>\n",
              "      <td>0.0</td>\n",
              "      <td>0.0</td>\n",
              "      <td>0.0</td>\n",
              "      <td>0.0</td>\n",
              "      <td>0.0</td>\n",
              "      <td>0.0</td>\n",
              "      <td>0.0</td>\n",
              "      <td>0.0</td>\n",
              "      <td>0.0</td>\n",
              "      <td>0.0</td>\n",
              "      <td>...</td>\n",
              "      <td>605.152161</td>\n",
              "      <td>3067.0</td>\n",
              "      <td>2014.0</td>\n",
              "      <td>142.0</td>\n",
              "      <td>1.961022</td>\n",
              "      <td>-2.179393</td>\n",
              "      <td>0.091330</td>\n",
              "      <td>0.513356</td>\n",
              "      <td>-1.534139</td>\n",
              "      <td>-0.275079</td>\n",
              "    </tr>\n",
              "  </tbody>\n",
              "</table>\n",
              "<p>5 rows × 12749 columns</p>\n",
              "</div>\n",
              "      <button class=\"colab-df-convert\" onclick=\"convertToInteractive('df-f1f3e438-f0b6-486f-b808-ec9c648e4ebc')\"\n",
              "              title=\"Convert this dataframe to an interactive table.\"\n",
              "              style=\"display:none;\">\n",
              "        \n",
              "  <svg xmlns=\"http://www.w3.org/2000/svg\" height=\"24px\"viewBox=\"0 0 24 24\"\n",
              "       width=\"24px\">\n",
              "    <path d=\"M0 0h24v24H0V0z\" fill=\"none\"/>\n",
              "    <path d=\"M18.56 5.44l.94 2.06.94-2.06 2.06-.94-2.06-.94-.94-2.06-.94 2.06-2.06.94zm-11 1L8.5 8.5l.94-2.06 2.06-.94-2.06-.94L8.5 2.5l-.94 2.06-2.06.94zm10 10l.94 2.06.94-2.06 2.06-.94-2.06-.94-.94-2.06-.94 2.06-2.06.94z\"/><path d=\"M17.41 7.96l-1.37-1.37c-.4-.4-.92-.59-1.43-.59-.52 0-1.04.2-1.43.59L10.3 9.45l-7.72 7.72c-.78.78-.78 2.05 0 2.83L4 21.41c.39.39.9.59 1.41.59.51 0 1.02-.2 1.41-.59l7.78-7.78 2.81-2.81c.8-.78.8-2.07 0-2.86zM5.41 20L4 18.59l7.72-7.72 1.47 1.35L5.41 20z\"/>\n",
              "  </svg>\n",
              "      </button>\n",
              "      \n",
              "  <style>\n",
              "    .colab-df-container {\n",
              "      display:flex;\n",
              "      flex-wrap:wrap;\n",
              "      gap: 12px;\n",
              "    }\n",
              "\n",
              "    .colab-df-convert {\n",
              "      background-color: #E8F0FE;\n",
              "      border: none;\n",
              "      border-radius: 50%;\n",
              "      cursor: pointer;\n",
              "      display: none;\n",
              "      fill: #1967D2;\n",
              "      height: 32px;\n",
              "      padding: 0 0 0 0;\n",
              "      width: 32px;\n",
              "    }\n",
              "\n",
              "    .colab-df-convert:hover {\n",
              "      background-color: #E2EBFA;\n",
              "      box-shadow: 0px 1px 2px rgba(60, 64, 67, 0.3), 0px 1px 3px 1px rgba(60, 64, 67, 0.15);\n",
              "      fill: #174EA6;\n",
              "    }\n",
              "\n",
              "    [theme=dark] .colab-df-convert {\n",
              "      background-color: #3B4455;\n",
              "      fill: #D2E3FC;\n",
              "    }\n",
              "\n",
              "    [theme=dark] .colab-df-convert:hover {\n",
              "      background-color: #434B5C;\n",
              "      box-shadow: 0px 1px 3px 1px rgba(0, 0, 0, 0.15);\n",
              "      filter: drop-shadow(0px 1px 2px rgba(0, 0, 0, 0.3));\n",
              "      fill: #FFFFFF;\n",
              "    }\n",
              "  </style>\n",
              "\n",
              "      <script>\n",
              "        const buttonEl =\n",
              "          document.querySelector('#df-f1f3e438-f0b6-486f-b808-ec9c648e4ebc button.colab-df-convert');\n",
              "        buttonEl.style.display =\n",
              "          google.colab.kernel.accessAllowed ? 'block' : 'none';\n",
              "\n",
              "        async function convertToInteractive(key) {\n",
              "          const element = document.querySelector('#df-f1f3e438-f0b6-486f-b808-ec9c648e4ebc');\n",
              "          const dataTable =\n",
              "            await google.colab.kernel.invokeFunction('convertToInteractive',\n",
              "                                                     [key], {});\n",
              "          if (!dataTable) return;\n",
              "\n",
              "          const docLinkHtml = 'Like what you see? Visit the ' +\n",
              "            '<a target=\"_blank\" href=https://colab.research.google.com/notebooks/data_table.ipynb>data table notebook</a>'\n",
              "            + ' to learn more about interactive tables.';\n",
              "          element.innerHTML = '';\n",
              "          dataTable['output_type'] = 'display_data';\n",
              "          await google.colab.output.renderOutput(dataTable, element);\n",
              "          const docLink = document.createElement('div');\n",
              "          docLink.innerHTML = docLinkHtml;\n",
              "          element.appendChild(docLink);\n",
              "        }\n",
              "      </script>\n",
              "    </div>\n",
              "  </div>\n",
              "  "
            ]
          },
          "metadata": {},
          "execution_count": 24
        }
      ],
      "source": [
        "processed_melb_df = pandas.concat([melb_data_mice,pca_df.iloc[:,:6]], axis = 1)\n",
        "processed_melb_df.head()"
      ]
    },
    {
      "cell_type": "markdown",
      "source": [
        "Se genera el export del nuevo Dataset"
      ],
      "metadata": {
        "id": "QIx8J3XLuDMj"
      }
    },
    {
      "cell_type": "code",
      "execution_count": 25,
      "metadata": {
        "colab": {
          "base_uri": "https://localhost:8080/",
          "height": 17
        },
        "id": "o1FgymgKTn3o",
        "outputId": "af591b77-e871-44e5-d136-6728b98bd3e4"
      },
      "outputs": [
        {
          "output_type": "display_data",
          "data": {
            "text/plain": [
              "<IPython.core.display.Javascript object>"
            ],
            "application/javascript": [
              "\n",
              "    async function download(id, filename, size) {\n",
              "      if (!google.colab.kernel.accessAllowed) {\n",
              "        return;\n",
              "      }\n",
              "      const div = document.createElement('div');\n",
              "      const label = document.createElement('label');\n",
              "      label.textContent = `Downloading \"${filename}\": `;\n",
              "      div.appendChild(label);\n",
              "      const progress = document.createElement('progress');\n",
              "      progress.max = size;\n",
              "      div.appendChild(progress);\n",
              "      document.body.appendChild(div);\n",
              "\n",
              "      const buffers = [];\n",
              "      let downloaded = 0;\n",
              "\n",
              "      const channel = await google.colab.kernel.comms.open(id);\n",
              "      // Send a message to notify the kernel that we're ready.\n",
              "      channel.send({})\n",
              "\n",
              "      for await (const message of channel.messages) {\n",
              "        // Send a message to notify the kernel that we're ready.\n",
              "        channel.send({})\n",
              "        if (message.buffers) {\n",
              "          for (const buffer of message.buffers) {\n",
              "            buffers.push(buffer);\n",
              "            downloaded += buffer.byteLength;\n",
              "            progress.value = downloaded;\n",
              "          }\n",
              "        }\n",
              "      }\n",
              "      const blob = new Blob(buffers, {type: 'application/binary'});\n",
              "      const a = document.createElement('a');\n",
              "      a.href = window.URL.createObjectURL(blob);\n",
              "      a.download = filename;\n",
              "      div.appendChild(a);\n",
              "      a.click();\n",
              "      div.remove();\n",
              "    }\n",
              "  "
            ]
          },
          "metadata": {}
        },
        {
          "output_type": "display_data",
          "data": {
            "text/plain": [
              "<IPython.core.display.Javascript object>"
            ],
            "application/javascript": [
              "download(\"download_1d97c158-bbdf-4aee-a70e-86b6e3f1193e\", \"melb_data_extended_with_PCA.csv\", 624828661)"
            ]
          },
          "metadata": {}
        }
      ],
      "source": [
        "processed_melb_df.to_csv(\"melb_data_extended_with_PCA.csv\", index=None)\n",
        "files.download(\"melb_data_extended_with_PCA.csv\")\n",
        "\n",
        "#el archivo generado en esta linea no se puede subir al repositorio por que es muy pesado"
      ]
    },
    {
      "cell_type": "markdown",
      "metadata": {
        "id": "mVBLFc8PhRtW"
      },
      "source": [
        "## Ejercicio 5: Documentación\n",
        "\n",
        "En un documento `.pdf` o `.md` realizar un reporte de las operaciones que realizaron para obtener el conjunto de datos final. Se debe incluir:\n",
        "  1. Criterios de exclusión (o inclusión) de filas\n",
        "  2. Interpretación de las columnas presentes\n",
        "  2. Todas las transofrmaciones realizadas\n",
        "\n",
        "Este documento es de uso técnico exclusivamente, y su objetivo es permitir que otres desarrolladores puedan reproducir los mismos pasos y obtener el mismo resultado. Debe ser detallado pero consiso.\n",
        "\n",
        "*Se sube un archivo PDF [Ejercicio 5 - Documentación Técnica.md] para este punto*\n"
      ]
    }
  ],
  "metadata": {
    "colab": {
      "collapsed_sections": [],
      "name": "Entregable_Parte_2_2022.ipynb",
      "provenance": []
    },
    "kernelspec": {
      "display_name": "Python 3",
      "name": "python3"
    },
    "language_info": {
      "name": "python"
    }
  },
  "nbformat": 4,
  "nbformat_minor": 0
}